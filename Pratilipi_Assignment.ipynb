{
 "cells": [
  {
   "cell_type": "code",
   "execution_count": 1,
   "id": "d98f5273",
   "metadata": {},
   "outputs": [],
   "source": [
    "import numpy as np\n",
    "import pandas as pd\n",
    "from sklearn.model_selection import train_test_split\n",
    "from collections import Counter\n",
    "import matplotlib.pyplot as plt\n",
    "from mpl_toolkits.mplot3d import Axes3D\n",
    "from matplotlib import rcParams\n",
    "from sklearn.metrics import accuracy_score, classification_report, confusion_matrix\n",
    "from scipy import stats\n",
    "import seaborn as sns\n",
    "%matplotlib inline\n",
    "from sklearn.feature_selection import VarianceThreshold\n",
    "from sklearn.metrics import mean_squared_error\n",
    "import math"
   ]
  },
  {
   "cell_type": "markdown",
   "id": "a78395d4",
   "metadata": {},
   "source": [
    "##### Load the Data"
   ]
  },
  {
   "cell_type": "code",
   "execution_count": 2,
   "id": "1a231599",
   "metadata": {},
   "outputs": [
    {
     "data": {
      "text/html": [
       "<div>\n",
       "<style scoped>\n",
       "    .dataframe tbody tr th:only-of-type {\n",
       "        vertical-align: middle;\n",
       "    }\n",
       "\n",
       "    .dataframe tbody tr th {\n",
       "        vertical-align: top;\n",
       "    }\n",
       "\n",
       "    .dataframe thead th {\n",
       "        text-align: right;\n",
       "    }\n",
       "</style>\n",
       "<table border=\"1\" class=\"dataframe\">\n",
       "  <thead>\n",
       "    <tr style=\"text-align: right;\">\n",
       "      <th></th>\n",
       "      <th>author_id</th>\n",
       "      <th>pratilipi_id</th>\n",
       "      <th>category_name</th>\n",
       "      <th>reading_time</th>\n",
       "      <th>updated_at</th>\n",
       "      <th>published_at</th>\n",
       "    </tr>\n",
       "  </thead>\n",
       "  <tbody>\n",
       "    <tr>\n",
       "      <th>0</th>\n",
       "      <td>-3418949279741297</td>\n",
       "      <td>1025741862639304</td>\n",
       "      <td>translation</td>\n",
       "      <td>0</td>\n",
       "      <td>2020-08-19 15:26:13</td>\n",
       "      <td>2016-09-30 10:37:04</td>\n",
       "    </tr>\n",
       "    <tr>\n",
       "      <th>1</th>\n",
       "      <td>-2270332351871840</td>\n",
       "      <td>1377786215601277</td>\n",
       "      <td>translation</td>\n",
       "      <td>171</td>\n",
       "      <td>2021-01-21 16:27:07</td>\n",
       "      <td>2018-06-11 13:17:48</td>\n",
       "    </tr>\n",
       "    <tr>\n",
       "      <th>2</th>\n",
       "      <td>-2270332352037261</td>\n",
       "      <td>1377786215601962</td>\n",
       "      <td>translation</td>\n",
       "      <td>92</td>\n",
       "      <td>2020-09-29 12:33:57</td>\n",
       "      <td>2018-06-12 04:19:12</td>\n",
       "    </tr>\n",
       "    <tr>\n",
       "      <th>3</th>\n",
       "      <td>-2270332352521845</td>\n",
       "      <td>1377786215640994</td>\n",
       "      <td>translation</td>\n",
       "      <td>0</td>\n",
       "      <td>2019-10-17 09:03:37</td>\n",
       "      <td>2019-09-26 14:58:53</td>\n",
       "    </tr>\n",
       "    <tr>\n",
       "      <th>4</th>\n",
       "      <td>-2270332349665658</td>\n",
       "      <td>1377786215931338</td>\n",
       "      <td>translation</td>\n",
       "      <td>47</td>\n",
       "      <td>2020-05-05 11:33:41</td>\n",
       "      <td>2018-11-25 12:28:23</td>\n",
       "    </tr>\n",
       "  </tbody>\n",
       "</table>\n",
       "</div>"
      ],
      "text/plain": [
       "          author_id      pratilipi_id category_name  reading_time  \\\n",
       "0 -3418949279741297  1025741862639304   translation             0   \n",
       "1 -2270332351871840  1377786215601277   translation           171   \n",
       "2 -2270332352037261  1377786215601962   translation            92   \n",
       "3 -2270332352521845  1377786215640994   translation             0   \n",
       "4 -2270332349665658  1377786215931338   translation            47   \n",
       "\n",
       "            updated_at         published_at  \n",
       "0  2020-08-19 15:26:13  2016-09-30 10:37:04  \n",
       "1  2021-01-21 16:27:07  2018-06-11 13:17:48  \n",
       "2  2020-09-29 12:33:57  2018-06-12 04:19:12  \n",
       "3  2019-10-17 09:03:37  2019-09-26 14:58:53  \n",
       "4  2020-05-05 11:33:41  2018-11-25 12:28:23  "
      ]
     },
     "execution_count": 2,
     "metadata": {},
     "output_type": "execute_result"
    }
   ],
   "source": [
    "metadata = pd.read_csv(\"metadata.csv\")\n",
    "metadata.head()"
   ]
  },
  {
   "cell_type": "code",
   "execution_count": 3,
   "id": "eca9b0f0",
   "metadata": {},
   "outputs": [
    {
     "data": {
      "text/html": [
       "<div>\n",
       "<style scoped>\n",
       "    .dataframe tbody tr th:only-of-type {\n",
       "        vertical-align: middle;\n",
       "    }\n",
       "\n",
       "    .dataframe tbody tr th {\n",
       "        vertical-align: top;\n",
       "    }\n",
       "\n",
       "    .dataframe thead th {\n",
       "        text-align: right;\n",
       "    }\n",
       "</style>\n",
       "<table border=\"1\" class=\"dataframe\">\n",
       "  <thead>\n",
       "    <tr style=\"text-align: right;\">\n",
       "      <th></th>\n",
       "      <th>Unnamed: 0</th>\n",
       "      <th>user_id</th>\n",
       "      <th>pratilipi_id</th>\n",
       "      <th>read_percent</th>\n",
       "      <th>updated_at</th>\n",
       "    </tr>\n",
       "  </thead>\n",
       "  <tbody>\n",
       "    <tr>\n",
       "      <th>0</th>\n",
       "      <td>0</td>\n",
       "      <td>5506791963854965</td>\n",
       "      <td>1377786220672965</td>\n",
       "      <td>100.0</td>\n",
       "      <td>2022-03-23 00:08:26.227</td>\n",
       "    </tr>\n",
       "    <tr>\n",
       "      <th>1</th>\n",
       "      <td>1</td>\n",
       "      <td>5506791979071996</td>\n",
       "      <td>1377786219742624</td>\n",
       "      <td>29.0</td>\n",
       "      <td>2022-03-23 00:08:26.220</td>\n",
       "    </tr>\n",
       "    <tr>\n",
       "      <th>2</th>\n",
       "      <td>2</td>\n",
       "      <td>5506791980256358</td>\n",
       "      <td>1377786217096334</td>\n",
       "      <td>22.0</td>\n",
       "      <td>2022-03-23 00:08:26.020</td>\n",
       "    </tr>\n",
       "    <tr>\n",
       "      <th>3</th>\n",
       "      <td>3</td>\n",
       "      <td>5506791988747277</td>\n",
       "      <td>1377786224767880</td>\n",
       "      <td>100.0</td>\n",
       "      <td>2022-03-23 00:08:25.306</td>\n",
       "    </tr>\n",
       "    <tr>\n",
       "      <th>4</th>\n",
       "      <td>4</td>\n",
       "      <td>5506791992372558</td>\n",
       "      <td>1377786218111595</td>\n",
       "      <td>100.0</td>\n",
       "      <td>2022-03-23 00:08:25.250</td>\n",
       "    </tr>\n",
       "  </tbody>\n",
       "</table>\n",
       "</div>"
      ],
      "text/plain": [
       "   Unnamed: 0           user_id      pratilipi_id  read_percent  \\\n",
       "0           0  5506791963854965  1377786220672965         100.0   \n",
       "1           1  5506791979071996  1377786219742624          29.0   \n",
       "2           2  5506791980256358  1377786217096334          22.0   \n",
       "3           3  5506791988747277  1377786224767880         100.0   \n",
       "4           4  5506791992372558  1377786218111595         100.0   \n",
       "\n",
       "                updated_at  \n",
       "0  2022-03-23 00:08:26.227  \n",
       "1  2022-03-23 00:08:26.220  \n",
       "2  2022-03-23 00:08:26.020  \n",
       "3  2022-03-23 00:08:25.306  \n",
       "4  2022-03-23 00:08:25.250  "
      ]
     },
     "execution_count": 3,
     "metadata": {},
     "output_type": "execute_result"
    }
   ],
   "source": [
    "userdata = pd.read_csv(\"user_interactions.csv\")\n",
    "userdata.head()"
   ]
  },
  {
   "cell_type": "code",
   "execution_count": 4,
   "id": "437503f7",
   "metadata": {},
   "outputs": [],
   "source": [
    "userdata = userdata.drop(\"Unnamed: 0\", axis='columns')"
   ]
  },
  {
   "cell_type": "markdown",
   "id": "d6e7dc6f",
   "metadata": {},
   "source": [
    "##### Exploratory Data Analysis"
   ]
  },
  {
   "cell_type": "code",
   "execution_count": 5,
   "id": "39a8802d",
   "metadata": {},
   "outputs": [
    {
     "data": {
      "text/plain": [
       "Index(['author_id', 'pratilipi_id', 'category_name', 'reading_time',\n",
       "       'updated_at', 'published_at'],\n",
       "      dtype='object')"
      ]
     },
     "execution_count": 5,
     "metadata": {},
     "output_type": "execute_result"
    }
   ],
   "source": [
    "# columns\n",
    "metadata.columns"
   ]
  },
  {
   "cell_type": "code",
   "execution_count": 6,
   "id": "76a741ef",
   "metadata": {},
   "outputs": [
    {
     "data": {
      "text/plain": [
       "Index(['user_id', 'pratilipi_id', 'read_percent', 'updated_at'], dtype='object')"
      ]
     },
     "execution_count": 6,
     "metadata": {},
     "output_type": "execute_result"
    }
   ],
   "source": [
    "userdata.columns"
   ]
  },
  {
   "cell_type": "code",
   "execution_count": 7,
   "id": "10be85df",
   "metadata": {},
   "outputs": [
    {
     "data": {
      "text/plain": [
       "(954501, 6)"
      ]
     },
     "execution_count": 7,
     "metadata": {},
     "output_type": "execute_result"
    }
   ],
   "source": [
    "#shape\n",
    "metadata.shape"
   ]
  },
  {
   "cell_type": "code",
   "execution_count": 8,
   "id": "5516bd6d",
   "metadata": {},
   "outputs": [
    {
     "data": {
      "text/plain": [
       "(10000000, 4)"
      ]
     },
     "execution_count": 8,
     "metadata": {},
     "output_type": "execute_result"
    }
   ],
   "source": [
    "userdata.shape"
   ]
  },
  {
   "cell_type": "code",
   "execution_count": 9,
   "id": "7dc8d716",
   "metadata": {},
   "outputs": [
    {
     "data": {
      "text/plain": [
       "7"
      ]
     },
     "execution_count": 9,
     "metadata": {},
     "output_type": "execute_result"
    }
   ],
   "source": [
    "# NaN values\n",
    "metadata.isnull().sum().sum()"
   ]
  },
  {
   "cell_type": "code",
   "execution_count": 10,
   "id": "0ecdda95",
   "metadata": {},
   "outputs": [
    {
     "data": {
      "text/plain": [
       "0"
      ]
     },
     "execution_count": 10,
     "metadata": {},
     "output_type": "execute_result"
    }
   ],
   "source": [
    "userdata.isnull().sum().sum()"
   ]
  },
  {
   "cell_type": "code",
   "execution_count": 11,
   "id": "8c3f372f",
   "metadata": {},
   "outputs": [],
   "source": [
    "### merginf the metadata & userdata into a single dataframe\n",
    "metaUserData = metadata.merge(userdata, on=['pratilipi_id'])"
   ]
  },
  {
   "cell_type": "code",
   "execution_count": 12,
   "id": "81c1f7bf",
   "metadata": {},
   "outputs": [
    {
     "data": {
      "text/html": [
       "<div>\n",
       "<style scoped>\n",
       "    .dataframe tbody tr th:only-of-type {\n",
       "        vertical-align: middle;\n",
       "    }\n",
       "\n",
       "    .dataframe tbody tr th {\n",
       "        vertical-align: top;\n",
       "    }\n",
       "\n",
       "    .dataframe thead th {\n",
       "        text-align: right;\n",
       "    }\n",
       "</style>\n",
       "<table border=\"1\" class=\"dataframe\">\n",
       "  <thead>\n",
       "    <tr style=\"text-align: right;\">\n",
       "      <th></th>\n",
       "      <th>author_id</th>\n",
       "      <th>pratilipi_id</th>\n",
       "      <th>category_name</th>\n",
       "      <th>reading_time</th>\n",
       "      <th>updated_at_x</th>\n",
       "      <th>published_at</th>\n",
       "      <th>user_id</th>\n",
       "      <th>read_percent</th>\n",
       "      <th>updated_at_y</th>\n",
       "    </tr>\n",
       "  </thead>\n",
       "  <tbody>\n",
       "    <tr>\n",
       "      <th>0</th>\n",
       "      <td>-2270332351871840</td>\n",
       "      <td>1377786215601277</td>\n",
       "      <td>translation</td>\n",
       "      <td>171</td>\n",
       "      <td>2021-01-21 16:27:07</td>\n",
       "      <td>2018-06-11 13:17:48</td>\n",
       "      <td>5506791995012091</td>\n",
       "      <td>100.0</td>\n",
       "      <td>2022-03-20 02:17:04.588</td>\n",
       "    </tr>\n",
       "    <tr>\n",
       "      <th>1</th>\n",
       "      <td>-2270332351871840</td>\n",
       "      <td>1377786215601277</td>\n",
       "      <td>relegion-and-spiritual</td>\n",
       "      <td>171</td>\n",
       "      <td>2021-01-21 16:27:07</td>\n",
       "      <td>2018-06-11 13:17:48</td>\n",
       "      <td>5506791995012091</td>\n",
       "      <td>100.0</td>\n",
       "      <td>2022-03-20 02:17:04.588</td>\n",
       "    </tr>\n",
       "    <tr>\n",
       "      <th>2</th>\n",
       "      <td>-2270332351871840</td>\n",
       "      <td>1377786215601277</td>\n",
       "      <td>shortstories</td>\n",
       "      <td>171</td>\n",
       "      <td>2021-01-21 16:27:07</td>\n",
       "      <td>2018-06-11 13:17:48</td>\n",
       "      <td>5506791995012091</td>\n",
       "      <td>100.0</td>\n",
       "      <td>2022-03-20 02:17:04.588</td>\n",
       "    </tr>\n",
       "    <tr>\n",
       "      <th>3</th>\n",
       "      <td>-2270332347597550</td>\n",
       "      <td>1377786216454709</td>\n",
       "      <td>translation</td>\n",
       "      <td>130</td>\n",
       "      <td>2020-08-19 16:19:40</td>\n",
       "      <td>2019-04-11 14:03:19</td>\n",
       "      <td>5506791995065421</td>\n",
       "      <td>50.0</td>\n",
       "      <td>2022-03-22 16:52:55.524</td>\n",
       "    </tr>\n",
       "    <tr>\n",
       "      <th>4</th>\n",
       "      <td>-2270332347597550</td>\n",
       "      <td>1377786216454709</td>\n",
       "      <td>shortstories</td>\n",
       "      <td>130</td>\n",
       "      <td>2020-08-19 16:19:40</td>\n",
       "      <td>2019-04-11 14:03:19</td>\n",
       "      <td>5506791995065421</td>\n",
       "      <td>50.0</td>\n",
       "      <td>2022-03-22 16:52:55.524</td>\n",
       "    </tr>\n",
       "    <tr>\n",
       "      <th>5</th>\n",
       "      <td>-2270332347288193</td>\n",
       "      <td>1377786216542356</td>\n",
       "      <td>translation</td>\n",
       "      <td>407</td>\n",
       "      <td>2020-01-11 17:02:30</td>\n",
       "      <td>2020-01-11 17:02:30</td>\n",
       "      <td>5506791974891769</td>\n",
       "      <td>100.0</td>\n",
       "      <td>2022-03-22 20:06:37.244</td>\n",
       "    </tr>\n",
       "    <tr>\n",
       "      <th>6</th>\n",
       "      <td>-2270332347288193</td>\n",
       "      <td>1377786216542356</td>\n",
       "      <td>novels</td>\n",
       "      <td>407</td>\n",
       "      <td>2020-01-11 17:02:30</td>\n",
       "      <td>2020-01-11 17:02:30</td>\n",
       "      <td>5506791974891769</td>\n",
       "      <td>100.0</td>\n",
       "      <td>2022-03-22 20:06:37.244</td>\n",
       "    </tr>\n",
       "    <tr>\n",
       "      <th>7</th>\n",
       "      <td>-2270332345838166</td>\n",
       "      <td>1377786216953910</td>\n",
       "      <td>translation</td>\n",
       "      <td>691</td>\n",
       "      <td>2019-08-09 15:38:30</td>\n",
       "      <td>2019-08-04 15:28:09</td>\n",
       "      <td>5506791964667200</td>\n",
       "      <td>100.0</td>\n",
       "      <td>2022-03-22 16:27:44.706</td>\n",
       "    </tr>\n",
       "    <tr>\n",
       "      <th>8</th>\n",
       "      <td>-2270332345838166</td>\n",
       "      <td>1377786216953910</td>\n",
       "      <td>translation</td>\n",
       "      <td>691</td>\n",
       "      <td>2019-08-09 15:38:30</td>\n",
       "      <td>2019-08-04 15:28:09</td>\n",
       "      <td>5506791956460502</td>\n",
       "      <td>57.0</td>\n",
       "      <td>2022-03-19 08:24:12.607</td>\n",
       "    </tr>\n",
       "    <tr>\n",
       "      <th>9</th>\n",
       "      <td>-2270332352193486</td>\n",
       "      <td>1377786216961479</td>\n",
       "      <td>translation</td>\n",
       "      <td>1215</td>\n",
       "      <td>2019-09-06 10:00:04</td>\n",
       "      <td>2019-07-29 11:10:15</td>\n",
       "      <td>5506791956573100</td>\n",
       "      <td>9.0</td>\n",
       "      <td>2022-03-20 09:32:22.742</td>\n",
       "    </tr>\n",
       "  </tbody>\n",
       "</table>\n",
       "</div>"
      ],
      "text/plain": [
       "          author_id      pratilipi_id           category_name  reading_time  \\\n",
       "0 -2270332351871840  1377786215601277             translation           171   \n",
       "1 -2270332351871840  1377786215601277  relegion-and-spiritual           171   \n",
       "2 -2270332351871840  1377786215601277            shortstories           171   \n",
       "3 -2270332347597550  1377786216454709             translation           130   \n",
       "4 -2270332347597550  1377786216454709            shortstories           130   \n",
       "5 -2270332347288193  1377786216542356             translation           407   \n",
       "6 -2270332347288193  1377786216542356                  novels           407   \n",
       "7 -2270332345838166  1377786216953910             translation           691   \n",
       "8 -2270332345838166  1377786216953910             translation           691   \n",
       "9 -2270332352193486  1377786216961479             translation          1215   \n",
       "\n",
       "          updated_at_x         published_at           user_id  read_percent  \\\n",
       "0  2021-01-21 16:27:07  2018-06-11 13:17:48  5506791995012091         100.0   \n",
       "1  2021-01-21 16:27:07  2018-06-11 13:17:48  5506791995012091         100.0   \n",
       "2  2021-01-21 16:27:07  2018-06-11 13:17:48  5506791995012091         100.0   \n",
       "3  2020-08-19 16:19:40  2019-04-11 14:03:19  5506791995065421          50.0   \n",
       "4  2020-08-19 16:19:40  2019-04-11 14:03:19  5506791995065421          50.0   \n",
       "5  2020-01-11 17:02:30  2020-01-11 17:02:30  5506791974891769         100.0   \n",
       "6  2020-01-11 17:02:30  2020-01-11 17:02:30  5506791974891769         100.0   \n",
       "7  2019-08-09 15:38:30  2019-08-04 15:28:09  5506791964667200         100.0   \n",
       "8  2019-08-09 15:38:30  2019-08-04 15:28:09  5506791956460502          57.0   \n",
       "9  2019-09-06 10:00:04  2019-07-29 11:10:15  5506791956573100           9.0   \n",
       "\n",
       "              updated_at_y  \n",
       "0  2022-03-20 02:17:04.588  \n",
       "1  2022-03-20 02:17:04.588  \n",
       "2  2022-03-20 02:17:04.588  \n",
       "3  2022-03-22 16:52:55.524  \n",
       "4  2022-03-22 16:52:55.524  \n",
       "5  2022-03-22 20:06:37.244  \n",
       "6  2022-03-22 20:06:37.244  \n",
       "7  2022-03-22 16:27:44.706  \n",
       "8  2022-03-19 08:24:12.607  \n",
       "9  2022-03-20 09:32:22.742  "
      ]
     },
     "execution_count": 12,
     "metadata": {},
     "output_type": "execute_result"
    }
   ],
   "source": [
    "# head of metaUserData\n",
    "metaUserData.head(10)"
   ]
  },
  {
   "cell_type": "code",
   "execution_count": 13,
   "id": "765664b5",
   "metadata": {},
   "outputs": [
    {
     "data": {
      "text/html": [
       "<div>\n",
       "<style scoped>\n",
       "    .dataframe tbody tr th:only-of-type {\n",
       "        vertical-align: middle;\n",
       "    }\n",
       "\n",
       "    .dataframe tbody tr th {\n",
       "        vertical-align: top;\n",
       "    }\n",
       "\n",
       "    .dataframe thead th {\n",
       "        text-align: right;\n",
       "    }\n",
       "</style>\n",
       "<table border=\"1\" class=\"dataframe\">\n",
       "  <thead>\n",
       "    <tr style=\"text-align: right;\">\n",
       "      <th></th>\n",
       "      <th>author_id</th>\n",
       "      <th>pratilipi_id</th>\n",
       "      <th>category_name</th>\n",
       "      <th>reading_time</th>\n",
       "      <th>updated_at_x</th>\n",
       "      <th>published_at</th>\n",
       "      <th>user_id</th>\n",
       "      <th>read_percent</th>\n",
       "      <th>updated_at_y</th>\n",
       "    </tr>\n",
       "  </thead>\n",
       "  <tbody>\n",
       "    <tr>\n",
       "      <th>15892123</th>\n",
       "      <td>-2270332329611423</td>\n",
       "      <td>1377786227869379</td>\n",
       "      <td>Horror-Marathon</td>\n",
       "      <td>316</td>\n",
       "      <td>2022-02-22 13:54:40</td>\n",
       "      <td>2022-02-22 13:54:40</td>\n",
       "      <td>5506791954885100</td>\n",
       "      <td>100.0</td>\n",
       "      <td>2022-03-21 07:11:16.389</td>\n",
       "    </tr>\n",
       "    <tr>\n",
       "      <th>15892124</th>\n",
       "      <td>-2270332329611423</td>\n",
       "      <td>1377786227869379</td>\n",
       "      <td>Horror-Marathon</td>\n",
       "      <td>316</td>\n",
       "      <td>2022-02-22 13:54:40</td>\n",
       "      <td>2022-02-22 13:54:40</td>\n",
       "      <td>5506791965450682</td>\n",
       "      <td>100.0</td>\n",
       "      <td>2022-03-18 18:53:40.366</td>\n",
       "    </tr>\n",
       "    <tr>\n",
       "      <th>15892125</th>\n",
       "      <td>-2270332329611423</td>\n",
       "      <td>1377786227927874</td>\n",
       "      <td>Horror-Marathon</td>\n",
       "      <td>203</td>\n",
       "      <td>2022-02-25 13:43:30</td>\n",
       "      <td>2022-02-25 13:43:30</td>\n",
       "      <td>5506791954885100</td>\n",
       "      <td>100.0</td>\n",
       "      <td>2022-03-21 07:28:07.164</td>\n",
       "    </tr>\n",
       "    <tr>\n",
       "      <th>15892126</th>\n",
       "      <td>-2270332329611423</td>\n",
       "      <td>1377786227927874</td>\n",
       "      <td>Horror-Marathon</td>\n",
       "      <td>203</td>\n",
       "      <td>2022-02-25 13:43:30</td>\n",
       "      <td>2022-02-25 13:43:30</td>\n",
       "      <td>5506791965450682</td>\n",
       "      <td>100.0</td>\n",
       "      <td>2022-03-18 18:59:25.178</td>\n",
       "    </tr>\n",
       "    <tr>\n",
       "      <th>15892127</th>\n",
       "      <td>-2270332329611423</td>\n",
       "      <td>1377786227982527</td>\n",
       "      <td>Horror-Marathon</td>\n",
       "      <td>195</td>\n",
       "      <td>2022-02-26 06:38:59</td>\n",
       "      <td>2022-02-26 06:38:59</td>\n",
       "      <td>5506791954885100</td>\n",
       "      <td>100.0</td>\n",
       "      <td>2022-03-21 08:11:36.779</td>\n",
       "    </tr>\n",
       "    <tr>\n",
       "      <th>15892128</th>\n",
       "      <td>-2270332329611423</td>\n",
       "      <td>1377786227982527</td>\n",
       "      <td>Horror-Marathon</td>\n",
       "      <td>195</td>\n",
       "      <td>2022-02-26 06:38:59</td>\n",
       "      <td>2022-02-26 06:38:59</td>\n",
       "      <td>5506791965450682</td>\n",
       "      <td>100.0</td>\n",
       "      <td>2022-03-18 19:06:30.463</td>\n",
       "    </tr>\n",
       "    <tr>\n",
       "      <th>15892129</th>\n",
       "      <td>-2270332329611423</td>\n",
       "      <td>1377786227983191</td>\n",
       "      <td>Horror-Marathon</td>\n",
       "      <td>145</td>\n",
       "      <td>2022-02-28 14:25:09</td>\n",
       "      <td>2022-02-28 14:25:09</td>\n",
       "      <td>5506791954885100</td>\n",
       "      <td>100.0</td>\n",
       "      <td>2022-03-21 08:11:37.455</td>\n",
       "    </tr>\n",
       "    <tr>\n",
       "      <th>15892130</th>\n",
       "      <td>-2270332329611423</td>\n",
       "      <td>1377786227983191</td>\n",
       "      <td>Horror-Marathon</td>\n",
       "      <td>145</td>\n",
       "      <td>2022-02-28 14:25:09</td>\n",
       "      <td>2022-02-28 14:25:09</td>\n",
       "      <td>5506791965450682</td>\n",
       "      <td>100.0</td>\n",
       "      <td>2022-03-18 19:29:39.995</td>\n",
       "    </tr>\n",
       "    <tr>\n",
       "      <th>15892131</th>\n",
       "      <td>-2270332329611423</td>\n",
       "      <td>1377786228132048</td>\n",
       "      <td>Horror-Marathon</td>\n",
       "      <td>173</td>\n",
       "      <td>2022-03-07 11:22:21</td>\n",
       "      <td>2022-03-07 11:22:21</td>\n",
       "      <td>5506791954885100</td>\n",
       "      <td>100.0</td>\n",
       "      <td>2022-03-21 08:11:38.318</td>\n",
       "    </tr>\n",
       "    <tr>\n",
       "      <th>15892132</th>\n",
       "      <td>-2270332329611423</td>\n",
       "      <td>1377786228132048</td>\n",
       "      <td>Horror-Marathon</td>\n",
       "      <td>173</td>\n",
       "      <td>2022-03-07 11:22:21</td>\n",
       "      <td>2022-03-07 11:22:21</td>\n",
       "      <td>5506791965450682</td>\n",
       "      <td>100.0</td>\n",
       "      <td>2022-03-18 19:29:37.270</td>\n",
       "    </tr>\n",
       "  </tbody>\n",
       "</table>\n",
       "</div>"
      ],
      "text/plain": [
       "                 author_id      pratilipi_id    category_name  reading_time  \\\n",
       "15892123 -2270332329611423  1377786227869379  Horror-Marathon           316   \n",
       "15892124 -2270332329611423  1377786227869379  Horror-Marathon           316   \n",
       "15892125 -2270332329611423  1377786227927874  Horror-Marathon           203   \n",
       "15892126 -2270332329611423  1377786227927874  Horror-Marathon           203   \n",
       "15892127 -2270332329611423  1377786227982527  Horror-Marathon           195   \n",
       "15892128 -2270332329611423  1377786227982527  Horror-Marathon           195   \n",
       "15892129 -2270332329611423  1377786227983191  Horror-Marathon           145   \n",
       "15892130 -2270332329611423  1377786227983191  Horror-Marathon           145   \n",
       "15892131 -2270332329611423  1377786228132048  Horror-Marathon           173   \n",
       "15892132 -2270332329611423  1377786228132048  Horror-Marathon           173   \n",
       "\n",
       "                 updated_at_x         published_at           user_id  \\\n",
       "15892123  2022-02-22 13:54:40  2022-02-22 13:54:40  5506791954885100   \n",
       "15892124  2022-02-22 13:54:40  2022-02-22 13:54:40  5506791965450682   \n",
       "15892125  2022-02-25 13:43:30  2022-02-25 13:43:30  5506791954885100   \n",
       "15892126  2022-02-25 13:43:30  2022-02-25 13:43:30  5506791965450682   \n",
       "15892127  2022-02-26 06:38:59  2022-02-26 06:38:59  5506791954885100   \n",
       "15892128  2022-02-26 06:38:59  2022-02-26 06:38:59  5506791965450682   \n",
       "15892129  2022-02-28 14:25:09  2022-02-28 14:25:09  5506791954885100   \n",
       "15892130  2022-02-28 14:25:09  2022-02-28 14:25:09  5506791965450682   \n",
       "15892131  2022-03-07 11:22:21  2022-03-07 11:22:21  5506791954885100   \n",
       "15892132  2022-03-07 11:22:21  2022-03-07 11:22:21  5506791965450682   \n",
       "\n",
       "          read_percent             updated_at_y  \n",
       "15892123         100.0  2022-03-21 07:11:16.389  \n",
       "15892124         100.0  2022-03-18 18:53:40.366  \n",
       "15892125         100.0  2022-03-21 07:28:07.164  \n",
       "15892126         100.0  2022-03-18 18:59:25.178  \n",
       "15892127         100.0  2022-03-21 08:11:36.779  \n",
       "15892128         100.0  2022-03-18 19:06:30.463  \n",
       "15892129         100.0  2022-03-21 08:11:37.455  \n",
       "15892130         100.0  2022-03-18 19:29:39.995  \n",
       "15892131         100.0  2022-03-21 08:11:38.318  \n",
       "15892132         100.0  2022-03-18 19:29:37.270  "
      ]
     },
     "execution_count": 13,
     "metadata": {},
     "output_type": "execute_result"
    }
   ],
   "source": [
    "metaUserData.tail(10)"
   ]
  },
  {
   "cell_type": "code",
   "execution_count": 14,
   "id": "7d233771",
   "metadata": {},
   "outputs": [
    {
     "data": {
      "text/plain": [
       "Index(['author_id', 'pratilipi_id', 'category_name', 'reading_time',\n",
       "       'updated_at_x', 'published_at', 'user_id', 'read_percent',\n",
       "       'updated_at_y'],\n",
       "      dtype='object')"
      ]
     },
     "execution_count": 14,
     "metadata": {},
     "output_type": "execute_result"
    }
   ],
   "source": [
    "# columns of mataUserData\n",
    "metaUserData.columns"
   ]
  },
  {
   "cell_type": "code",
   "execution_count": 15,
   "id": "10f9735c",
   "metadata": {},
   "outputs": [
    {
     "data": {
      "text/plain": [
       "(15892133, 9)"
      ]
     },
     "execution_count": 15,
     "metadata": {},
     "output_type": "execute_result"
    }
   ],
   "source": [
    "# shape of metaUserData\n",
    "metaUserData.shape"
   ]
  },
  {
   "cell_type": "code",
   "execution_count": 16,
   "id": "9cd0ea4a",
   "metadata": {},
   "outputs": [],
   "source": [
    "newMetaUserData = metaUserData"
   ]
  },
  {
   "cell_type": "code",
   "execution_count": 17,
   "id": "fb404fe5",
   "metadata": {},
   "outputs": [
    {
     "name": "stdout",
     "output_type": "stream",
     "text": [
      "<class 'pandas.core.frame.DataFrame'>\n",
      "Int64Index: 15892133 entries, 0 to 15892132\n",
      "Data columns (total 9 columns):\n",
      " #   Column         Dtype \n",
      "---  ------         ----- \n",
      " 0   author_id      int64 \n",
      " 1   pratilipi_id   int64 \n",
      " 2   category_name  object\n",
      " 3   reading_time   int64 \n",
      " 4   updated_at_x   object\n",
      " 5   published_at   object\n",
      " 6   user_id        int64 \n",
      " 7   read_percent   int64 \n",
      " 8   updated_at_y   object\n",
      "dtypes: int64(5), object(4)\n",
      "memory usage: 1.2+ GB\n"
     ]
    }
   ],
   "source": [
    "newMetaUserData = newMetaUserData.astype({\"read_percent\":'int64'})\n",
    "newMetaUserData.info()"
   ]
  },
  {
   "cell_type": "markdown",
   "id": "035de2bf",
   "metadata": {},
   "source": [
    "##### type casting of \"read_percent\""
   ]
  },
  {
   "cell_type": "code",
   "execution_count": 18,
   "id": "b65f240c",
   "metadata": {},
   "outputs": [
    {
     "name": "stdout",
     "output_type": "stream",
     "text": [
      "<class 'pandas.core.frame.DataFrame'>\n",
      "Int64Index: 15892133 entries, 0 to 15892132\n",
      "Data columns (total 9 columns):\n",
      " #   Column         Dtype \n",
      "---  ------         ----- \n",
      " 0   author_id      int64 \n",
      " 1   pratilipi_id   int64 \n",
      " 2   category_name  object\n",
      " 3   reading_time   int64 \n",
      " 4   updated_at_x   object\n",
      " 5   published_at   object\n",
      " 6   user_id        int64 \n",
      " 7   read_percent   int64 \n",
      " 8   updated_at_y   object\n",
      "dtypes: int64(5), object(4)\n",
      "memory usage: 1.2+ GB\n"
     ]
    }
   ],
   "source": [
    "newMetaUserData = metaUserData.astype({\"read_percent\":'int64'})\n",
    "newMetaUserData.info()"
   ]
  },
  {
   "cell_type": "code",
   "execution_count": 19,
   "id": "028dce78",
   "metadata": {},
   "outputs": [
    {
     "data": {
      "text/html": [
       "<div>\n",
       "<style scoped>\n",
       "    .dataframe tbody tr th:only-of-type {\n",
       "        vertical-align: middle;\n",
       "    }\n",
       "\n",
       "    .dataframe tbody tr th {\n",
       "        vertical-align: top;\n",
       "    }\n",
       "\n",
       "    .dataframe thead th {\n",
       "        text-align: right;\n",
       "    }\n",
       "</style>\n",
       "<table border=\"1\" class=\"dataframe\">\n",
       "  <thead>\n",
       "    <tr style=\"text-align: right;\">\n",
       "      <th></th>\n",
       "      <th>author_id</th>\n",
       "      <th>pratilipi_id</th>\n",
       "      <th>reading_time</th>\n",
       "      <th>user_id</th>\n",
       "      <th>read_percent</th>\n",
       "    </tr>\n",
       "  </thead>\n",
       "  <tbody>\n",
       "    <tr>\n",
       "      <th>count</th>\n",
       "      <td>1.589213e+07</td>\n",
       "      <td>1.589213e+07</td>\n",
       "      <td>1.589213e+07</td>\n",
       "      <td>1.589213e+07</td>\n",
       "      <td>1.589213e+07</td>\n",
       "    </tr>\n",
       "    <tr>\n",
       "      <th>mean</th>\n",
       "      <td>-2.352316e+15</td>\n",
       "      <td>1.371101e+15</td>\n",
       "      <td>5.664121e+02</td>\n",
       "      <td>5.488942e+15</td>\n",
       "      <td>9.374332e+01</td>\n",
       "    </tr>\n",
       "    <tr>\n",
       "      <th>std</th>\n",
       "      <td>3.534446e+14</td>\n",
       "      <td>1.023273e+14</td>\n",
       "      <td>6.876861e+02</td>\n",
       "      <td>1.615990e+14</td>\n",
       "      <td>2.094189e+01</td>\n",
       "    </tr>\n",
       "    <tr>\n",
       "      <th>min</th>\n",
       "      <td>-4.566636e+15</td>\n",
       "      <td>-8.733805e+14</td>\n",
       "      <td>0.000000e+00</td>\n",
       "      <td>3.255388e+15</td>\n",
       "      <td>0.000000e+00</td>\n",
       "    </tr>\n",
       "    <tr>\n",
       "      <th>25%</th>\n",
       "      <td>-2.270332e+15</td>\n",
       "      <td>1.377786e+15</td>\n",
       "      <td>3.190000e+02</td>\n",
       "      <td>5.506792e+15</td>\n",
       "      <td>1.000000e+02</td>\n",
       "    </tr>\n",
       "    <tr>\n",
       "      <th>50%</th>\n",
       "      <td>-2.270332e+15</td>\n",
       "      <td>1.377786e+15</td>\n",
       "      <td>4.700000e+02</td>\n",
       "      <td>5.506792e+15</td>\n",
       "      <td>1.000000e+02</td>\n",
       "    </tr>\n",
       "    <tr>\n",
       "      <th>75%</th>\n",
       "      <td>-2.270332e+15</td>\n",
       "      <td>1.377786e+15</td>\n",
       "      <td>6.860000e+02</td>\n",
       "      <td>5.506792e+15</td>\n",
       "      <td>1.000000e+02</td>\n",
       "    </tr>\n",
       "    <tr>\n",
       "      <th>max</th>\n",
       "      <td>-2.270332e+15</td>\n",
       "      <td>1.377786e+15</td>\n",
       "      <td>7.898300e+04</td>\n",
       "      <td>5.506792e+15</td>\n",
       "      <td>2.400000e+03</td>\n",
       "    </tr>\n",
       "  </tbody>\n",
       "</table>\n",
       "</div>"
      ],
      "text/plain": [
       "          author_id  pratilipi_id  reading_time       user_id  read_percent\n",
       "count  1.589213e+07  1.589213e+07  1.589213e+07  1.589213e+07  1.589213e+07\n",
       "mean  -2.352316e+15  1.371101e+15  5.664121e+02  5.488942e+15  9.374332e+01\n",
       "std    3.534446e+14  1.023273e+14  6.876861e+02  1.615990e+14  2.094189e+01\n",
       "min   -4.566636e+15 -8.733805e+14  0.000000e+00  3.255388e+15  0.000000e+00\n",
       "25%   -2.270332e+15  1.377786e+15  3.190000e+02  5.506792e+15  1.000000e+02\n",
       "50%   -2.270332e+15  1.377786e+15  4.700000e+02  5.506792e+15  1.000000e+02\n",
       "75%   -2.270332e+15  1.377786e+15  6.860000e+02  5.506792e+15  1.000000e+02\n",
       "max   -2.270332e+15  1.377786e+15  7.898300e+04  5.506792e+15  2.400000e+03"
      ]
     },
     "execution_count": 19,
     "metadata": {},
     "output_type": "execute_result"
    }
   ],
   "source": [
    "newMetaUserData.describe()"
   ]
  },
  {
   "cell_type": "code",
   "execution_count": 20,
   "id": "0740f23a",
   "metadata": {},
   "outputs": [
    {
     "data": {
      "text/plain": [
       "False"
      ]
     },
     "execution_count": 20,
     "metadata": {},
     "output_type": "execute_result"
    }
   ],
   "source": [
    "# check duplicates\n",
    "newMetaUserData.duplicated==True"
   ]
  },
  {
   "cell_type": "code",
   "execution_count": 21,
   "id": "ff9b72e0",
   "metadata": {},
   "outputs": [
    {
     "data": {
      "text/plain": [
       "0"
      ]
     },
     "execution_count": 21,
     "metadata": {},
     "output_type": "execute_result"
    }
   ],
   "source": [
    "# nan values for all features \n",
    "newMetaUserData.isnull().sum().sum()"
   ]
  },
  {
   "cell_type": "markdown",
   "id": "9a41de2f",
   "metadata": {},
   "source": [
    "- Zero NaN values found"
   ]
  },
  {
   "cell_type": "code",
   "execution_count": 22,
   "id": "f4ba59ed",
   "metadata": {},
   "outputs": [
    {
     "data": {
      "text/plain": [
       "author_id          14720\n",
       "pratilipi_id      192851\n",
       "category_name         45\n",
       "reading_time        3116\n",
       "updated_at_x      185476\n",
       "published_at      189668\n",
       "user_id           323058\n",
       "read_percent         146\n",
       "updated_at_y     5970259\n",
       "dtype: int64"
      ]
     },
     "execution_count": 22,
     "metadata": {},
     "output_type": "execute_result"
    }
   ],
   "source": [
    "#unique values in columns\n",
    "newMetaUserData.nunique()"
   ]
  },
  {
   "cell_type": "code",
   "execution_count": 23,
   "id": "6e450cb1",
   "metadata": {},
   "outputs": [
    {
     "data": {
      "text/plain": [
       "array(['translation', 'relegion-and-spiritual', 'shortstories', 'novels',\n",
       "       'suspense', 'social', 'comedy', 'children', 'moral-inspiring',\n",
       "       'family', 'romance', 'mythology', 'horror', 'women',\n",
       "       'experiences-and-memories', 'crime', 'Indiawale', 'drama',\n",
       "       'entertainment', 'politics', 'action-and-adventure', 'life',\n",
       "       'pratilipi-kids', 'murder-mystery', 'health-and-wellness',\n",
       "       'crime-lekhan', 'webseries', 'science-fiction', 'fantasy',\n",
       "       'Horror-Marathon', 'Pratilipi-kalamkar-samman',\n",
       "       'Pratilipi-Awards-Hindi', 'short-story-challenge', 'erotica',\n",
       "       'The-Chat-Story', 'detective', 'swahindi2', 'Serieswriting',\n",
       "       'premkamahina', 'pravasi-sahitya', 'Parytan', 'Radio-Fiction',\n",
       "       'krishi-jeevan', 'Rashtriya', 'cyber-crime-fiction'], dtype=object)"
      ]
     },
     "execution_count": 23,
     "metadata": {},
     "output_type": "execute_result"
    }
   ],
   "source": [
    "#unique value of category_name\n",
    "newMetaUserData['category_name'].unique()"
   ]
  },
  {
   "cell_type": "code",
   "execution_count": 24,
   "id": "a0eb638a",
   "metadata": {},
   "outputs": [
    {
     "data": {
      "text/plain": [
       "romance                      4548851\n",
       "novels                       2041519\n",
       "suspense                     1747397\n",
       "family                       1460656\n",
       "social                        854282\n",
       "action-and-adventure          755166\n",
       "entertainment                 574792\n",
       "women                         501823\n",
       "swahindi2                     442299\n",
       "horror                        434345\n",
       "shortstories                  319740\n",
       "fantasy                       271455\n",
       "life                          246281\n",
       "moral-inspiring               209302\n",
       "drama                         167940\n",
       "webseries                     166207\n",
       "Pratilipi-Awards-Hindi        152542\n",
       "Pratilipi-kalamkar-samman     121662\n",
       "comedy                        120628\n",
       "crime                         100986\n",
       "mythology                      75782\n",
       "Indiawale                      75478\n",
       "Serieswriting                  64809\n",
       "translation                    56702\n",
       "experiences-and-memories       52652\n",
       "Horror-Marathon                50647\n",
       "relegion-and-spiritual         44615\n",
       "murder-mystery                 37637\n",
       "crime-lekhan                   29952\n",
       "detective                      27982\n",
       "erotica                        26698\n",
       "children                       22320\n",
       "science-fiction                19325\n",
       "premkamahina                   16214\n",
       "politics                       15230\n",
       "short-story-challenge          10136\n",
       "Parytan                         6777\n",
       "health-and-wellness             6493\n",
       "The-Chat-Story                  5060\n",
       "pratilipi-kids                  4634\n",
       "cyber-crime-fiction             1746\n",
       "krishi-jeevan                   1033\n",
       "pravasi-sahitya                  970\n",
       "Radio-Fiction                    736\n",
       "Rashtriya                        632\n",
       "Name: category_name, dtype: int64"
      ]
     },
     "execution_count": 24,
     "metadata": {},
     "output_type": "execute_result"
    }
   ],
   "source": [
    "newMetaUserData['category_name'].value_counts()"
   ]
  },
  {
   "cell_type": "markdown",
   "id": "9851134e",
   "metadata": {},
   "source": [
    "##### rename the columns of metaUserData"
   ]
  },
  {
   "cell_type": "code",
   "execution_count": 25,
   "id": "4640da1c",
   "metadata": {},
   "outputs": [
    {
     "data": {
      "text/plain": [
       "Index(['author_id', 'pratilipi_id', 'category_name', 'reading_time',\n",
       "       'updated_at_meta', 'published_at', 'user_id', 'read_percent',\n",
       "       'updated_at_user'],\n",
       "      dtype='object')"
      ]
     },
     "execution_count": 25,
     "metadata": {},
     "output_type": "execute_result"
    }
   ],
   "source": [
    "newMetaUserData.rename(columns={'author_id':'author_id', 'pratilipi_id':'pratilipi_id', 'category_name':'category_name', 'reading_time':'reading_time',\n",
    "       'updated_at_x':'updated_at_meta', 'published_at':'published_at', 'user_id':'user_id', 'read_percent':'read_percent',\n",
    "       'updated_at_y':'updated_at_user'},inplace=True)\n",
    "newMetaUserData.columns"
   ]
  },
  {
   "cell_type": "markdown",
   "id": "34591254",
   "metadata": {},
   "source": [
    "##### Target Variable : 'category_name'\n",
    "##### Problem:\n",
    "- In This Dataset\n",
    "\n",
    "- No of Target = 1\n",
    "\n",
    "- Target Cordinality >2\n",
    "\n",
    "##### Type Of Target is Multi Class\n",
    "\n",
    "##### * This is Multi Class Classification Problem\n"
   ]
  },
  {
   "cell_type": "markdown",
   "id": "815f4ee9",
   "metadata": {},
   "source": [
    "##### Univariate Analysis"
   ]
  },
  {
   "cell_type": "code",
   "execution_count": 26,
   "id": "37c39d34",
   "metadata": {},
   "outputs": [
    {
     "data": {
      "text/plain": [
       "['romance', 'novels', 'suspense', 'family', 'social']"
      ]
     },
     "execution_count": 26,
     "metadata": {},
     "output_type": "execute_result"
    }
   ],
   "source": [
    "# get top 5 most frequent pratilipi category_name\n",
    "cat_n = 5\n",
    "top5Prat_Name = newMetaUserData['category_name'].value_counts()[:cat_n].index.tolist()\n",
    "top5Prat_Name"
   ]
  },
  {
   "cell_type": "code",
   "execution_count": 27,
   "id": "7eb0ea9a",
   "metadata": {},
   "outputs": [
    {
     "data": {
      "text/plain": [
       "[5506791978555287,\n",
       " 5506791984436689,\n",
       " 5371339105280676,\n",
       " 5506791986650045,\n",
       " 5506791988639487]"
      ]
     },
     "execution_count": 27,
     "metadata": {},
     "output_type": "execute_result"
    }
   ],
   "source": [
    "# get top 5 most frequent user id\n",
    "user_n = 5\n",
    "top5userID = newMetaUserData['user_id'].value_counts()[:user_n].index.tolist()\n",
    "top5userID"
   ]
  },
  {
   "cell_type": "code",
   "execution_count": 28,
   "id": "4f7e460e",
   "metadata": {},
   "outputs": [
    {
     "data": {
      "text/plain": [
       "[314, 377, 374, 376, 308]"
      ]
     },
     "execution_count": 28,
     "metadata": {},
     "output_type": "execute_result"
    }
   ],
   "source": [
    "# get top 5 most frequent reading_time\n",
    "read_n = 5\n",
    "top5userID = newMetaUserData['reading_time'].value_counts()[:user_n].index.tolist()\n",
    "top5userID"
   ]
  },
  {
   "cell_type": "code",
   "execution_count": 29,
   "id": "7c238152",
   "metadata": {},
   "outputs": [
    {
     "data": {
      "text/plain": [
       "(array([1., 0., 1., 0., 0., 1., 0., 1., 0., 1.]),\n",
       " array([0. , 0.4, 0.8, 1.2, 1.6, 2. , 2.4, 2.8, 3.2, 3.6, 4. ]),\n",
       " <BarContainer object of 10 artists>)"
      ]
     },
     "execution_count": 29,
     "metadata": {},
     "output_type": "execute_result"
    },
    {
     "data": {
      "image/png": "[encoded data removed]",
      "text/plain": [
       "<Figure size 720x216 with 1 Axes>"
      ]
     },
     "metadata": {
      "needs_background": "light"
     },
     "output_type": "display_data"
    }
   ],
   "source": [
    "plt.figure(figsize=(10,3))\n",
    "plt.hist(newMetaUserData['category_name'].value_counts()[:cat_n].index.tolist())"
   ]
  },
  {
   "cell_type": "code",
   "execution_count": 29,
   "id": "248e90cd",
   "metadata": {},
   "outputs": [],
   "source": [
    "rank1_pratilipi = newMetaUserData[\"category_name\"]=='romance'\n",
    "rank2_pratilipi = newMetaUserData[\"category_name\"]=='novels'\n",
    "rank3_pratilipi = newMetaUserData[\"category_name\"]=='suspense'\n",
    "rank4_pratilipi = newMetaUserData[\"category_name\"]=='family'\n",
    "rank5_pratilipi = newMetaUserData[\"category_name\"]=='social'"
   ]
  },
  {
   "cell_type": "code",
   "execution_count": 30,
   "id": "b5b8d11a",
   "metadata": {},
   "outputs": [
    {
     "data": {
      "text/html": [
       "<div>\n",
       "<style scoped>\n",
       "    .dataframe tbody tr th:only-of-type {\n",
       "        vertical-align: middle;\n",
       "    }\n",
       "\n",
       "    .dataframe tbody tr th {\n",
       "        vertical-align: top;\n",
       "    }\n",
       "\n",
       "    .dataframe thead th {\n",
       "        text-align: right;\n",
       "    }\n",
       "</style>\n",
       "<table border=\"1\" class=\"dataframe\">\n",
       "  <thead>\n",
       "    <tr style=\"text-align: right;\">\n",
       "      <th></th>\n",
       "      <th>author_id</th>\n",
       "      <th>pratilipi_id</th>\n",
       "      <th>category_name</th>\n",
       "      <th>reading_time</th>\n",
       "      <th>updated_at_meta</th>\n",
       "      <th>published_at</th>\n",
       "      <th>user_id</th>\n",
       "      <th>read_percent</th>\n",
       "      <th>updated_at_user</th>\n",
       "    </tr>\n",
       "  </thead>\n",
       "  <tbody>\n",
       "    <tr>\n",
       "      <th>6</th>\n",
       "      <td>-2270332347288193</td>\n",
       "      <td>1377786216542356</td>\n",
       "      <td>novels</td>\n",
       "      <td>407</td>\n",
       "      <td>2020-01-11 17:02:30</td>\n",
       "      <td>2020-01-11 17:02:30</td>\n",
       "      <td>5506791974891769</td>\n",
       "      <td>100</td>\n",
       "      <td>2022-03-22 20:06:37.244</td>\n",
       "    </tr>\n",
       "    <tr>\n",
       "      <th>10</th>\n",
       "      <td>-2270332352193486</td>\n",
       "      <td>1377786216961479</td>\n",
       "      <td>suspense</td>\n",
       "      <td>1215</td>\n",
       "      <td>2019-09-06 10:00:04</td>\n",
       "      <td>2019-07-29 11:10:15</td>\n",
       "      <td>5506791956573100</td>\n",
       "      <td>9</td>\n",
       "      <td>2022-03-20 09:32:22.742</td>\n",
       "    </tr>\n",
       "    <tr>\n",
       "      <th>11</th>\n",
       "      <td>-2270332352193486</td>\n",
       "      <td>1377786216961479</td>\n",
       "      <td>social</td>\n",
       "      <td>1215</td>\n",
       "      <td>2019-09-06 10:00:04</td>\n",
       "      <td>2019-07-29 11:10:15</td>\n",
       "      <td>5506791956573100</td>\n",
       "      <td>9</td>\n",
       "      <td>2022-03-20 09:32:22.742</td>\n",
       "    </tr>\n",
       "    <tr>\n",
       "      <th>13</th>\n",
       "      <td>-2270332352193486</td>\n",
       "      <td>1377786216961642</td>\n",
       "      <td>social</td>\n",
       "      <td>416</td>\n",
       "      <td>2019-07-30 08:08:10</td>\n",
       "      <td>2019-07-29 11:38:51</td>\n",
       "      <td>5506791954688424</td>\n",
       "      <td>20</td>\n",
       "      <td>2022-03-20 00:28:06.746</td>\n",
       "    </tr>\n",
       "    <tr>\n",
       "      <th>16</th>\n",
       "      <td>-2270332352193486</td>\n",
       "      <td>1377786216961676</td>\n",
       "      <td>social</td>\n",
       "      <td>1100</td>\n",
       "      <td>2019-09-24 08:32:01</td>\n",
       "      <td>2019-07-29 11:43:01</td>\n",
       "      <td>5506791949098996</td>\n",
       "      <td>28</td>\n",
       "      <td>2022-03-20 07:01:08.122</td>\n",
       "    </tr>\n",
       "    <tr>\n",
       "      <th>...</th>\n",
       "      <td>...</td>\n",
       "      <td>...</td>\n",
       "      <td>...</td>\n",
       "      <td>...</td>\n",
       "      <td>...</td>\n",
       "      <td>...</td>\n",
       "      <td>...</td>\n",
       "      <td>...</td>\n",
       "      <td>...</td>\n",
       "    </tr>\n",
       "    <tr>\n",
       "      <th>15800790</th>\n",
       "      <td>-2270332333599316</td>\n",
       "      <td>1377786228365145</td>\n",
       "      <td>social</td>\n",
       "      <td>46</td>\n",
       "      <td>2022-03-23 16:40:04</td>\n",
       "      <td>2022-03-22 15:37:44</td>\n",
       "      <td>5506791958451915</td>\n",
       "      <td>100</td>\n",
       "      <td>2022-03-22 16:18:30.242</td>\n",
       "    </tr>\n",
       "    <tr>\n",
       "      <th>15800791</th>\n",
       "      <td>-2270332349733273</td>\n",
       "      <td>1377786228366415</td>\n",
       "      <td>social</td>\n",
       "      <td>352</td>\n",
       "      <td>2022-03-22 16:50:28</td>\n",
       "      <td>2022-03-22 16:50:28</td>\n",
       "      <td>5506791962549722</td>\n",
       "      <td>100</td>\n",
       "      <td>2022-03-22 21:46:49.597</td>\n",
       "    </tr>\n",
       "    <tr>\n",
       "      <th>15800792</th>\n",
       "      <td>-2270332349733273</td>\n",
       "      <td>1377786228366415</td>\n",
       "      <td>social</td>\n",
       "      <td>352</td>\n",
       "      <td>2022-03-22 16:50:28</td>\n",
       "      <td>2022-03-22 16:50:28</td>\n",
       "      <td>5506791953975430</td>\n",
       "      <td>100</td>\n",
       "      <td>2022-03-22 18:17:02.411</td>\n",
       "    </tr>\n",
       "    <tr>\n",
       "      <th>15800793</th>\n",
       "      <td>-2270332349733273</td>\n",
       "      <td>1377786228366415</td>\n",
       "      <td>social</td>\n",
       "      <td>352</td>\n",
       "      <td>2022-03-22 16:50:28</td>\n",
       "      <td>2022-03-22 16:50:28</td>\n",
       "      <td>5506791952735216</td>\n",
       "      <td>100</td>\n",
       "      <td>2022-03-22 17:49:24.179</td>\n",
       "    </tr>\n",
       "    <tr>\n",
       "      <th>15800794</th>\n",
       "      <td>-2270332349733273</td>\n",
       "      <td>1377786228366415</td>\n",
       "      <td>social</td>\n",
       "      <td>352</td>\n",
       "      <td>2022-03-22 16:50:28</td>\n",
       "      <td>2022-03-22 16:50:28</td>\n",
       "      <td>5506791953137571</td>\n",
       "      <td>100</td>\n",
       "      <td>2022-03-22 17:32:01.212</td>\n",
       "    </tr>\n",
       "  </tbody>\n",
       "</table>\n",
       "<p>10652705 rows × 9 columns</p>\n",
       "</div>"
      ],
      "text/plain": [
       "                 author_id      pratilipi_id category_name  reading_time  \\\n",
       "6        -2270332347288193  1377786216542356        novels           407   \n",
       "10       -2270332352193486  1377786216961479      suspense          1215   \n",
       "11       -2270332352193486  1377786216961479        social          1215   \n",
       "13       -2270332352193486  1377786216961642        social           416   \n",
       "16       -2270332352193486  1377786216961676        social          1100   \n",
       "...                    ...               ...           ...           ...   \n",
       "15800790 -2270332333599316  1377786228365145        social            46   \n",
       "15800791 -2270332349733273  1377786228366415        social           352   \n",
       "15800792 -2270332349733273  1377786228366415        social           352   \n",
       "15800793 -2270332349733273  1377786228366415        social           352   \n",
       "15800794 -2270332349733273  1377786228366415        social           352   \n",
       "\n",
       "              updated_at_meta         published_at           user_id  \\\n",
       "6         2020-01-11 17:02:30  2020-01-11 17:02:30  5506791974891769   \n",
       "10        2019-09-06 10:00:04  2019-07-29 11:10:15  5506791956573100   \n",
       "11        2019-09-06 10:00:04  2019-07-29 11:10:15  5506791956573100   \n",
       "13        2019-07-30 08:08:10  2019-07-29 11:38:51  5506791954688424   \n",
       "16        2019-09-24 08:32:01  2019-07-29 11:43:01  5506791949098996   \n",
       "...                       ...                  ...               ...   \n",
       "15800790  2022-03-23 16:40:04  2022-03-22 15:37:44  5506791958451915   \n",
       "15800791  2022-03-22 16:50:28  2022-03-22 16:50:28  5506791962549722   \n",
       "15800792  2022-03-22 16:50:28  2022-03-22 16:50:28  5506791953975430   \n",
       "15800793  2022-03-22 16:50:28  2022-03-22 16:50:28  5506791952735216   \n",
       "15800794  2022-03-22 16:50:28  2022-03-22 16:50:28  5506791953137571   \n",
       "\n",
       "          read_percent          updated_at_user  \n",
       "6                  100  2022-03-22 20:06:37.244  \n",
       "10                   9  2022-03-20 09:32:22.742  \n",
       "11                   9  2022-03-20 09:32:22.742  \n",
       "13                  20  2022-03-20 00:28:06.746  \n",
       "16                  28  2022-03-20 07:01:08.122  \n",
       "...                ...                      ...  \n",
       "15800790           100  2022-03-22 16:18:30.242  \n",
       "15800791           100  2022-03-22 21:46:49.597  \n",
       "15800792           100  2022-03-22 18:17:02.411  \n",
       "15800793           100  2022-03-22 17:49:24.179  \n",
       "15800794           100  2022-03-22 17:32:01.212  \n",
       "\n",
       "[10652705 rows x 9 columns]"
      ]
     },
     "execution_count": 30,
     "metadata": {},
     "output_type": "execute_result"
    }
   ],
   "source": [
    "top5Prat_Name = newMetaUserData[rank1_pratilipi | rank2_pratilipi | rank3_pratilipi | rank4_pratilipi | rank5_pratilipi]\n",
    "top5Prat_Name"
   ]
  },
  {
   "cell_type": "markdown",
   "id": "f900bcc1",
   "metadata": {},
   "source": [
    "- catplot b/w top 5 pratilipi of category name and their count"
   ]
  },
  {
   "cell_type": "code",
   "execution_count": 32,
   "id": "ecf97a38",
   "metadata": {},
   "outputs": [
    {
     "name": "stderr",
     "output_type": "stream",
     "text": [
      "C:\\Users\\admin\\anaconda3\\envs\\kivy\\lib\\site-packages\\seaborn\\_decorators.py:36: FutureWarning: Pass the following variable as a keyword arg: x. From version 0.12, the only valid positional argument will be `data`, and passing other arguments without an explicit keyword will result in an error or misinterpretation.\n",
      "  warnings.warn(\n"
     ]
    },
    {
     "data": {
      "text/plain": [
       "<seaborn.axisgrid.FacetGrid at 0x26b00358400>"
      ]
     },
     "execution_count": 32,
     "metadata": {},
     "output_type": "execute_result"
    },
    {
     "data": {
      "image/png": "[encoded data removed]",
      "text/plain": [
       "<Figure size 396x396 with 1 Axes>"
      ]
     },
     "metadata": {
      "needs_background": "light"
     },
     "output_type": "display_data"
    }
   ],
   "source": [
    "sns.catplot('category_name',kind = 'count',data = top5Prat_Name, height= 5.5)"
   ]
  },
  {
   "cell_type": "markdown",
   "id": "e98f19fc",
   "metadata": {},
   "source": [
    "##### Bivariate Analysis\n",
    "- barplot b/w top 5 pratilipi of category name and reading time"
   ]
  },
  {
   "cell_type": "code",
   "execution_count": 33,
   "id": "da38272a",
   "metadata": {},
   "outputs": [
    {
     "name": "stderr",
     "output_type": "stream",
     "text": [
      "C:\\Users\\admin\\anaconda3\\envs\\kivy\\lib\\site-packages\\seaborn\\_decorators.py:36: FutureWarning: Pass the following variables as keyword args: x, y. From version 0.12, the only valid positional argument will be `data`, and passing other arguments without an explicit keyword will result in an error or misinterpretation.\n",
      "  warnings.warn(\n"
     ]
    },
    {
     "data": {
      "text/plain": [
       "<AxesSubplot:xlabel='category_name', ylabel='reading_time'>"
      ]
     },
     "execution_count": 33,
     "metadata": {},
     "output_type": "execute_result"
    },
    {
     "data": {
      "image/png": "[encoded data removed]",
      "text/plain": [
       "<Figure size 792x360 with 1 Axes>"
      ]
     },
     "metadata": {
      "needs_background": "light"
     },
     "output_type": "display_data"
    }
   ],
   "source": [
    "plt.figure(figsize=(11,5))\n",
    "sns.barplot(top5Prat_Name['category_name'],top5Prat_Name['reading_time'])"
   ]
  },
  {
   "cell_type": "markdown",
   "id": "b6f76049",
   "metadata": {},
   "source": [
    "- facetgrid plot b/w user id and pratilipi id wher hue = category name(top 5)"
   ]
  },
  {
   "cell_type": "code",
   "execution_count": 34,
   "id": "0c5032b0",
   "metadata": {},
   "outputs": [
    {
     "name": "stderr",
     "output_type": "stream",
     "text": [
      "C:\\Users\\admin\\anaconda3\\envs\\kivy\\lib\\site-packages\\seaborn\\axisgrid.py:337: UserWarning: The `size` parameter has been renamed to `height`; please update your code.\n",
      "  warnings.warn(msg, UserWarning)\n"
     ]
    },
    {
     "data": {
      "image/png": "[encoded data removed]",
      "text/plain": [
       "<Figure size 445.25x360 with 1 Axes>"
      ]
     },
     "metadata": {
      "needs_background": "light"
     },
     "output_type": "display_data"
    }
   ],
   "source": [
    "sns.FacetGrid(top5Prat_Name,hue=\"category_name\", size=5).map(plt.scatter,\"user_id\",\"pratilipi_id\").add_legend();\n",
    "plt.show()"
   ]
  },
  {
   "cell_type": "markdown",
   "id": "2910af42",
   "metadata": {},
   "source": [
    "- facetgrid plot b/w read percent and pratilipi id wher hue = category name(top 5)"
   ]
  },
  {
   "cell_type": "code",
   "execution_count": 35,
   "id": "4a0f389f",
   "metadata": {},
   "outputs": [
    {
     "name": "stderr",
     "output_type": "stream",
     "text": [
      "C:\\Users\\admin\\anaconda3\\envs\\kivy\\lib\\site-packages\\seaborn\\axisgrid.py:337: UserWarning: The `size` parameter has been renamed to `height`; please update your code.\n",
      "  warnings.warn(msg, UserWarning)\n"
     ]
    },
    {
     "data": {
      "image/png": "[encoded data removed]",
      "text/plain": [
       "<Figure size 445.25x360 with 1 Axes>"
      ]
     },
     "metadata": {
      "needs_background": "light"
     },
     "output_type": "display_data"
    }
   ],
   "source": [
    "sns.FacetGrid(top5Prat_Name,hue=\"category_name\", size=5).map(plt.scatter,\"read_percent\",\"pratilipi_id\").add_legend();\n",
    "plt.show()"
   ]
  },
  {
   "cell_type": "markdown",
   "id": "43dd6f48",
   "metadata": {},
   "source": [
    "- facetgrid plot b/w read percent and user id wher hue = category name(top 5)"
   ]
  },
  {
   "cell_type": "code",
   "execution_count": 36,
   "id": "ac27fe7a",
   "metadata": {},
   "outputs": [
    {
     "data": {
      "image/png": "[encoded data removed]",
      "text/plain": [
       "<Figure size 445.25x360 with 1 Axes>"
      ]
     },
     "metadata": {
      "needs_background": "light"
     },
     "output_type": "display_data"
    }
   ],
   "source": [
    "sns.FacetGrid(top5Prat_Name, hue='category_name', height=5).map(plt.scatter,\"read_percent\",\"user_id\").add_legend();\n",
    "plt.show()"
   ]
  },
  {
   "cell_type": "markdown",
   "id": "a5c95ba9",
   "metadata": {},
   "source": [
    "- converting category feature \"category_name\" into numerical form"
   ]
  },
  {
   "cell_type": "code",
   "execution_count": 31,
   "id": "d38d8c8f",
   "metadata": {},
   "outputs": [
    {
     "data": {
      "text/html": [
       "<div>\n",
       "<style scoped>\n",
       "    .dataframe tbody tr th:only-of-type {\n",
       "        vertical-align: middle;\n",
       "    }\n",
       "\n",
       "    .dataframe tbody tr th {\n",
       "        vertical-align: top;\n",
       "    }\n",
       "\n",
       "    .dataframe thead th {\n",
       "        text-align: right;\n",
       "    }\n",
       "</style>\n",
       "<table border=\"1\" class=\"dataframe\">\n",
       "  <thead>\n",
       "    <tr style=\"text-align: right;\">\n",
       "      <th></th>\n",
       "      <th>author_id</th>\n",
       "      <th>pratilipi_id</th>\n",
       "      <th>category_name</th>\n",
       "      <th>reading_time</th>\n",
       "      <th>updated_at_meta</th>\n",
       "      <th>published_at</th>\n",
       "      <th>user_id</th>\n",
       "      <th>read_percent</th>\n",
       "      <th>updated_at_user</th>\n",
       "    </tr>\n",
       "  </thead>\n",
       "  <tbody>\n",
       "    <tr>\n",
       "      <th>0</th>\n",
       "      <td>-2270332351871840</td>\n",
       "      <td>1377786215601277</td>\n",
       "      <td>42</td>\n",
       "      <td>171</td>\n",
       "      <td>2021-01-21 16:27:07</td>\n",
       "      <td>2018-06-11 13:17:48</td>\n",
       "      <td>5506791995012091</td>\n",
       "      <td>100</td>\n",
       "      <td>2022-03-20 02:17:04.588</td>\n",
       "    </tr>\n",
       "    <tr>\n",
       "      <th>1</th>\n",
       "      <td>-2270332351871840</td>\n",
       "      <td>1377786215601277</td>\n",
       "      <td>34</td>\n",
       "      <td>171</td>\n",
       "      <td>2021-01-21 16:27:07</td>\n",
       "      <td>2018-06-11 13:17:48</td>\n",
       "      <td>5506791995012091</td>\n",
       "      <td>100</td>\n",
       "      <td>2022-03-20 02:17:04.588</td>\n",
       "    </tr>\n",
       "    <tr>\n",
       "      <th>2</th>\n",
       "      <td>-2270332351871840</td>\n",
       "      <td>1377786215601277</td>\n",
       "      <td>38</td>\n",
       "      <td>171</td>\n",
       "      <td>2021-01-21 16:27:07</td>\n",
       "      <td>2018-06-11 13:17:48</td>\n",
       "      <td>5506791995012091</td>\n",
       "      <td>100</td>\n",
       "      <td>2022-03-20 02:17:04.588</td>\n",
       "    </tr>\n",
       "    <tr>\n",
       "      <th>3</th>\n",
       "      <td>-2270332347597550</td>\n",
       "      <td>1377786216454709</td>\n",
       "      <td>42</td>\n",
       "      <td>130</td>\n",
       "      <td>2020-08-19 16:19:40</td>\n",
       "      <td>2019-04-11 14:03:19</td>\n",
       "      <td>5506791995065421</td>\n",
       "      <td>50</td>\n",
       "      <td>2022-03-22 16:52:55.524</td>\n",
       "    </tr>\n",
       "    <tr>\n",
       "      <th>4</th>\n",
       "      <td>-2270332347597550</td>\n",
       "      <td>1377786216454709</td>\n",
       "      <td>38</td>\n",
       "      <td>130</td>\n",
       "      <td>2020-08-19 16:19:40</td>\n",
       "      <td>2019-04-11 14:03:19</td>\n",
       "      <td>5506791995065421</td>\n",
       "      <td>50</td>\n",
       "      <td>2022-03-22 16:52:55.524</td>\n",
       "    </tr>\n",
       "    <tr>\n",
       "      <th>...</th>\n",
       "      <td>...</td>\n",
       "      <td>...</td>\n",
       "      <td>...</td>\n",
       "      <td>...</td>\n",
       "      <td>...</td>\n",
       "      <td>...</td>\n",
       "      <td>...</td>\n",
       "      <td>...</td>\n",
       "      <td>...</td>\n",
       "    </tr>\n",
       "    <tr>\n",
       "      <th>15892128</th>\n",
       "      <td>-2270332329611423</td>\n",
       "      <td>1377786227982527</td>\n",
       "      <td>0</td>\n",
       "      <td>195</td>\n",
       "      <td>2022-02-26 06:38:59</td>\n",
       "      <td>2022-02-26 06:38:59</td>\n",
       "      <td>5506791965450682</td>\n",
       "      <td>100</td>\n",
       "      <td>2022-03-18 19:06:30.463</td>\n",
       "    </tr>\n",
       "    <tr>\n",
       "      <th>15892129</th>\n",
       "      <td>-2270332329611423</td>\n",
       "      <td>1377786227983191</td>\n",
       "      <td>0</td>\n",
       "      <td>145</td>\n",
       "      <td>2022-02-28 14:25:09</td>\n",
       "      <td>2022-02-28 14:25:09</td>\n",
       "      <td>5506791954885100</td>\n",
       "      <td>100</td>\n",
       "      <td>2022-03-21 08:11:37.455</td>\n",
       "    </tr>\n",
       "    <tr>\n",
       "      <th>15892130</th>\n",
       "      <td>-2270332329611423</td>\n",
       "      <td>1377786227983191</td>\n",
       "      <td>0</td>\n",
       "      <td>145</td>\n",
       "      <td>2022-02-28 14:25:09</td>\n",
       "      <td>2022-02-28 14:25:09</td>\n",
       "      <td>5506791965450682</td>\n",
       "      <td>100</td>\n",
       "      <td>2022-03-18 19:29:39.995</td>\n",
       "    </tr>\n",
       "    <tr>\n",
       "      <th>15892131</th>\n",
       "      <td>-2270332329611423</td>\n",
       "      <td>1377786228132048</td>\n",
       "      <td>0</td>\n",
       "      <td>173</td>\n",
       "      <td>2022-03-07 11:22:21</td>\n",
       "      <td>2022-03-07 11:22:21</td>\n",
       "      <td>5506791954885100</td>\n",
       "      <td>100</td>\n",
       "      <td>2022-03-21 08:11:38.318</td>\n",
       "    </tr>\n",
       "    <tr>\n",
       "      <th>15892132</th>\n",
       "      <td>-2270332329611423</td>\n",
       "      <td>1377786228132048</td>\n",
       "      <td>0</td>\n",
       "      <td>173</td>\n",
       "      <td>2022-03-07 11:22:21</td>\n",
       "      <td>2022-03-07 11:22:21</td>\n",
       "      <td>5506791965450682</td>\n",
       "      <td>100</td>\n",
       "      <td>2022-03-18 19:29:37.270</td>\n",
       "    </tr>\n",
       "  </tbody>\n",
       "</table>\n",
       "<p>15892133 rows × 9 columns</p>\n",
       "</div>"
      ],
      "text/plain": [
       "                 author_id      pratilipi_id  category_name  reading_time  \\\n",
       "0        -2270332351871840  1377786215601277             42           171   \n",
       "1        -2270332351871840  1377786215601277             34           171   \n",
       "2        -2270332351871840  1377786215601277             38           171   \n",
       "3        -2270332347597550  1377786216454709             42           130   \n",
       "4        -2270332347597550  1377786216454709             38           130   \n",
       "...                    ...               ...            ...           ...   \n",
       "15892128 -2270332329611423  1377786227982527              0           195   \n",
       "15892129 -2270332329611423  1377786227983191              0           145   \n",
       "15892130 -2270332329611423  1377786227983191              0           145   \n",
       "15892131 -2270332329611423  1377786228132048              0           173   \n",
       "15892132 -2270332329611423  1377786228132048              0           173   \n",
       "\n",
       "              updated_at_meta         published_at           user_id  \\\n",
       "0         2021-01-21 16:27:07  2018-06-11 13:17:48  5506791995012091   \n",
       "1         2021-01-21 16:27:07  2018-06-11 13:17:48  5506791995012091   \n",
       "2         2021-01-21 16:27:07  2018-06-11 13:17:48  5506791995012091   \n",
       "3         2020-08-19 16:19:40  2019-04-11 14:03:19  5506791995065421   \n",
       "4         2020-08-19 16:19:40  2019-04-11 14:03:19  5506791995065421   \n",
       "...                       ...                  ...               ...   \n",
       "15892128  2022-02-26 06:38:59  2022-02-26 06:38:59  5506791965450682   \n",
       "15892129  2022-02-28 14:25:09  2022-02-28 14:25:09  5506791954885100   \n",
       "15892130  2022-02-28 14:25:09  2022-02-28 14:25:09  5506791965450682   \n",
       "15892131  2022-03-07 11:22:21  2022-03-07 11:22:21  5506791954885100   \n",
       "15892132  2022-03-07 11:22:21  2022-03-07 11:22:21  5506791965450682   \n",
       "\n",
       "          read_percent          updated_at_user  \n",
       "0                  100  2022-03-20 02:17:04.588  \n",
       "1                  100  2022-03-20 02:17:04.588  \n",
       "2                  100  2022-03-20 02:17:04.588  \n",
       "3                   50  2022-03-22 16:52:55.524  \n",
       "4                   50  2022-03-22 16:52:55.524  \n",
       "...                ...                      ...  \n",
       "15892128           100  2022-03-18 19:06:30.463  \n",
       "15892129           100  2022-03-21 08:11:37.455  \n",
       "15892130           100  2022-03-18 19:29:39.995  \n",
       "15892131           100  2022-03-21 08:11:38.318  \n",
       "15892132           100  2022-03-18 19:29:37.270  \n",
       "\n",
       "[15892133 rows x 9 columns]"
      ]
     },
     "execution_count": 31,
     "metadata": {},
     "output_type": "execute_result"
    }
   ],
   "source": [
    "from sklearn.preprocessing import LabelEncoder\n",
    "enc = LabelEncoder()\n",
    "newMetaUserData.category_name = enc.fit_transform(newMetaUserData.category_name)\n",
    "newMetaUserData"
   ]
  },
  {
   "cell_type": "code",
   "execution_count": 32,
   "id": "e6baba3f",
   "metadata": {},
   "outputs": [
    {
     "data": {
      "text/html": [
       "<div>\n",
       "<style scoped>\n",
       "    .dataframe tbody tr th:only-of-type {\n",
       "        vertical-align: middle;\n",
       "    }\n",
       "\n",
       "    .dataframe tbody tr th {\n",
       "        vertical-align: top;\n",
       "    }\n",
       "\n",
       "    .dataframe thead th {\n",
       "        text-align: right;\n",
       "    }\n",
       "</style>\n",
       "<table border=\"1\" class=\"dataframe\">\n",
       "  <thead>\n",
       "    <tr style=\"text-align: right;\">\n",
       "      <th></th>\n",
       "      <th>read_percent</th>\n",
       "      <th>reading_time</th>\n",
       "      <th>category_name</th>\n",
       "    </tr>\n",
       "  </thead>\n",
       "  <tbody>\n",
       "    <tr>\n",
       "      <th>0</th>\n",
       "      <td>100</td>\n",
       "      <td>171</td>\n",
       "      <td>42</td>\n",
       "    </tr>\n",
       "    <tr>\n",
       "      <th>1</th>\n",
       "      <td>100</td>\n",
       "      <td>171</td>\n",
       "      <td>34</td>\n",
       "    </tr>\n",
       "    <tr>\n",
       "      <th>2</th>\n",
       "      <td>100</td>\n",
       "      <td>171</td>\n",
       "      <td>38</td>\n",
       "    </tr>\n",
       "    <tr>\n",
       "      <th>3</th>\n",
       "      <td>50</td>\n",
       "      <td>130</td>\n",
       "      <td>42</td>\n",
       "    </tr>\n",
       "    <tr>\n",
       "      <th>4</th>\n",
       "      <td>50</td>\n",
       "      <td>130</td>\n",
       "      <td>38</td>\n",
       "    </tr>\n",
       "    <tr>\n",
       "      <th>...</th>\n",
       "      <td>...</td>\n",
       "      <td>...</td>\n",
       "      <td>...</td>\n",
       "    </tr>\n",
       "    <tr>\n",
       "      <th>15892128</th>\n",
       "      <td>100</td>\n",
       "      <td>195</td>\n",
       "      <td>0</td>\n",
       "    </tr>\n",
       "    <tr>\n",
       "      <th>15892129</th>\n",
       "      <td>100</td>\n",
       "      <td>145</td>\n",
       "      <td>0</td>\n",
       "    </tr>\n",
       "    <tr>\n",
       "      <th>15892130</th>\n",
       "      <td>100</td>\n",
       "      <td>145</td>\n",
       "      <td>0</td>\n",
       "    </tr>\n",
       "    <tr>\n",
       "      <th>15892131</th>\n",
       "      <td>100</td>\n",
       "      <td>173</td>\n",
       "      <td>0</td>\n",
       "    </tr>\n",
       "    <tr>\n",
       "      <th>15892132</th>\n",
       "      <td>100</td>\n",
       "      <td>173</td>\n",
       "      <td>0</td>\n",
       "    </tr>\n",
       "  </tbody>\n",
       "</table>\n",
       "<p>15892133 rows × 3 columns</p>\n",
       "</div>"
      ],
      "text/plain": [
       "          read_percent  reading_time  category_name\n",
       "0                  100           171             42\n",
       "1                  100           171             34\n",
       "2                  100           171             38\n",
       "3                   50           130             42\n",
       "4                   50           130             38\n",
       "...                ...           ...            ...\n",
       "15892128           100           195              0\n",
       "15892129           100           145              0\n",
       "15892130           100           145              0\n",
       "15892131           100           173              0\n",
       "15892132           100           173              0\n",
       "\n",
       "[15892133 rows x 3 columns]"
      ]
     },
     "execution_count": 32,
     "metadata": {},
     "output_type": "execute_result"
    }
   ],
   "source": [
    "newMetaUserData = newMetaUserData[['read_percent', 'reading_time', 'category_name']]\n",
    "newMetaUserData"
   ]
  },
  {
   "cell_type": "code",
   "execution_count": 72,
   "id": "30abb947",
   "metadata": {},
   "outputs": [
    {
     "data": {
      "text/plain": [
       "[35, 29, 40, 20, 39]"
      ]
     },
     "execution_count": 72,
     "metadata": {},
     "output_type": "execute_result"
    }
   ],
   "source": [
    "cate_n = 5\n",
    "top5Prat = newMetaUserData['category_name'].value_counts()[:cate_n].index.tolist()\n",
    "top5Prat"
   ]
  },
  {
   "cell_type": "markdown",
   "id": "b1b73fb9",
   "metadata": {},
   "source": [
    "##### - Arrange the dataset in ascending order of time"
   ]
  },
  {
   "cell_type": "code",
   "execution_count": 33,
   "id": "e05e27b4",
   "metadata": {},
   "outputs": [
    {
     "name": "stderr",
     "output_type": "stream",
     "text": [
      "C:\\Users\\admin\\AppData\\Local\\Temp\\ipykernel_21076\\1234235791.py:1: SettingWithCopyWarning: \n",
      "A value is trying to be set on a copy of a slice from a DataFrame\n",
      "\n",
      "See the caveats in the documentation: https://pandas.pydata.org/pandas-docs/stable/user_guide/indexing.html#returning-a-view-versus-a-copy\n",
      "  newMetaUserData.sort_values(by=['reading_time'],inplace=True)\n"
     ]
    }
   ],
   "source": [
    "newMetaUserData.sort_values(by=['reading_time'],inplace=True)"
   ]
  },
  {
   "cell_type": "code",
   "execution_count": 34,
   "id": "b1fdb6cd",
   "metadata": {},
   "outputs": [
    {
     "data": {
      "text/html": [
       "<div>\n",
       "<style scoped>\n",
       "    .dataframe tbody tr th:only-of-type {\n",
       "        vertical-align: middle;\n",
       "    }\n",
       "\n",
       "    .dataframe tbody tr th {\n",
       "        vertical-align: top;\n",
       "    }\n",
       "\n",
       "    .dataframe thead th {\n",
       "        text-align: right;\n",
       "    }\n",
       "</style>\n",
       "<table border=\"1\" class=\"dataframe\">\n",
       "  <thead>\n",
       "    <tr style=\"text-align: right;\">\n",
       "      <th></th>\n",
       "      <th>read_percent</th>\n",
       "      <th>reading_time</th>\n",
       "      <th>category_name</th>\n",
       "    </tr>\n",
       "  </thead>\n",
       "  <tbody>\n",
       "    <tr>\n",
       "      <th>13240444</th>\n",
       "      <td>100</td>\n",
       "      <td>0</td>\n",
       "      <td>35</td>\n",
       "    </tr>\n",
       "    <tr>\n",
       "      <th>15674670</th>\n",
       "      <td>100</td>\n",
       "      <td>0</td>\n",
       "      <td>40</td>\n",
       "    </tr>\n",
       "    <tr>\n",
       "      <th>15674671</th>\n",
       "      <td>100</td>\n",
       "      <td>0</td>\n",
       "      <td>40</td>\n",
       "    </tr>\n",
       "    <tr>\n",
       "      <th>15674672</th>\n",
       "      <td>100</td>\n",
       "      <td>0</td>\n",
       "      <td>40</td>\n",
       "    </tr>\n",
       "    <tr>\n",
       "      <th>15674673</th>\n",
       "      <td>100</td>\n",
       "      <td>0</td>\n",
       "      <td>40</td>\n",
       "    </tr>\n",
       "    <tr>\n",
       "      <th>...</th>\n",
       "      <td>...</td>\n",
       "      <td>...</td>\n",
       "      <td>...</td>\n",
       "    </tr>\n",
       "    <tr>\n",
       "      <th>676375</th>\n",
       "      <td>6</td>\n",
       "      <td>70443</td>\n",
       "      <td>29</td>\n",
       "    </tr>\n",
       "    <tr>\n",
       "      <th>673123</th>\n",
       "      <td>47</td>\n",
       "      <td>75166</td>\n",
       "      <td>29</td>\n",
       "    </tr>\n",
       "    <tr>\n",
       "      <th>673124</th>\n",
       "      <td>47</td>\n",
       "      <td>75166</td>\n",
       "      <td>39</td>\n",
       "    </tr>\n",
       "    <tr>\n",
       "      <th>680099</th>\n",
       "      <td>0</td>\n",
       "      <td>78983</td>\n",
       "      <td>29</td>\n",
       "    </tr>\n",
       "    <tr>\n",
       "      <th>680100</th>\n",
       "      <td>4</td>\n",
       "      <td>78983</td>\n",
       "      <td>29</td>\n",
       "    </tr>\n",
       "  </tbody>\n",
       "</table>\n",
       "<p>15892133 rows × 3 columns</p>\n",
       "</div>"
      ],
      "text/plain": [
       "          read_percent  reading_time  category_name\n",
       "13240444           100             0             35\n",
       "15674670           100             0             40\n",
       "15674671           100             0             40\n",
       "15674672           100             0             40\n",
       "15674673           100             0             40\n",
       "...                ...           ...            ...\n",
       "676375               6         70443             29\n",
       "673123              47         75166             29\n",
       "673124              47         75166             39\n",
       "680099               0         78983             29\n",
       "680100               4         78983             29\n",
       "\n",
       "[15892133 rows x 3 columns]"
      ]
     },
     "execution_count": 34,
     "metadata": {},
     "output_type": "execute_result"
    }
   ],
   "source": [
    "newMetaUserData"
   ]
  },
  {
   "cell_type": "markdown",
   "id": "fbb323ae",
   "metadata": {},
   "source": [
    "##### Outlier Dectection and remove"
   ]
  },
  {
   "cell_type": "code",
   "execution_count": 35,
   "id": "f4ad60d6",
   "metadata": {},
   "outputs": [
    {
     "data": {
      "text/plain": [
       "<AxesSubplot:xlabel='read_percent'>"
      ]
     },
     "execution_count": 35,
     "metadata": {},
     "output_type": "execute_result"
    },
    {
     "data": {
      "image/png": "[encoded data removed]",
      "text/plain": [
       "<Figure size 432x288 with 1 Axes>"
      ]
     },
     "metadata": {
      "needs_background": "light"
     },
     "output_type": "display_data"
    }
   ],
   "source": [
    "sns.boxplot(x = newMetaUserData['read_percent'])"
   ]
  },
  {
   "cell_type": "code",
   "execution_count": 36,
   "id": "c89c5db6",
   "metadata": {},
   "outputs": [
    {
     "name": "stdout",
     "output_type": "stream",
     "text": [
      "Q1 =  100.0\n",
      "Q3 =  100.0\n",
      "IQR =  0.0\n",
      "Lower Bound =  100.0\n",
      "Upper Bound =  100.0\n",
      "Mean values of front camera =  93.74331853376762\n"
     ]
    }
   ],
   "source": [
    "Q1, Q3 = np.percentile(newMetaUserData['read_percent'],[25,75])\n",
    "print(\"Q1 = \",Q1)\n",
    "print(\"Q3 = \",Q3)\n",
    "IQR = Q3 - Q1\n",
    "print(\"IQR = \",IQR)\n",
    "low = Q1 - (1.5*IQR)\n",
    "upr = Q3 + (1.5*IQR)\n",
    "print(\"Lower Bound = \",low)\n",
    "print(\"Upper Bound = \",upr)\n",
    "mea = newMetaUserData['read_percent'].mean()\n",
    "print(\"Mean values of front camera = \",mea)"
   ]
  },
  {
   "cell_type": "code",
   "execution_count": 37,
   "id": "5e4ae1ea",
   "metadata": {},
   "outputs": [
    {
     "name": "stderr",
     "output_type": "stream",
     "text": [
      "C:\\Users\\admin\\AppData\\Local\\Temp\\ipykernel_21076\\1102410230.py:1: SettingWithCopyWarning: \n",
      "A value is trying to be set on a copy of a slice from a DataFrame.\n",
      "Try using .loc[row_indexer,col_indexer] = value instead\n",
      "\n",
      "See the caveats in the documentation: https://pandas.pydata.org/pandas-docs/stable/user_guide/indexing.html#returning-a-view-versus-a-copy\n",
      "  newMetaUserData['read_percent'] = np.where(newMetaUserData['read_percent'] < low, mea, newMetaUserData['read_percent'])\n",
      "C:\\Users\\admin\\AppData\\Local\\Temp\\ipykernel_21076\\1102410230.py:2: SettingWithCopyWarning: \n",
      "A value is trying to be set on a copy of a slice from a DataFrame.\n",
      "Try using .loc[row_indexer,col_indexer] = value instead\n",
      "\n",
      "See the caveats in the documentation: https://pandas.pydata.org/pandas-docs/stable/user_guide/indexing.html#returning-a-view-versus-a-copy\n",
      "  newMetaUserData['read_percent'] = np.where(newMetaUserData['read_percent'] > upr, mea, newMetaUserData['read_percent'])\n"
     ]
    }
   ],
   "source": [
    "newMetaUserData['read_percent'] = np.where(newMetaUserData['read_percent'] < low, mea, newMetaUserData['read_percent'])\n",
    "newMetaUserData['read_percent'] = np.where(newMetaUserData['read_percent'] > upr, mea, newMetaUserData['read_percent'])"
   ]
  },
  {
   "cell_type": "code",
   "execution_count": 38,
   "id": "52d35ef8",
   "metadata": {},
   "outputs": [
    {
     "data": {
      "text/plain": [
       "<AxesSubplot:xlabel='reading_time'>"
      ]
     },
     "execution_count": 38,
     "metadata": {},
     "output_type": "execute_result"
    },
    {
     "data": {
      "image/png": "[encoded data removed]",
      "text/plain": [
       "<Figure size 432x288 with 1 Axes>"
      ]
     },
     "metadata": {
      "needs_background": "light"
     },
     "output_type": "display_data"
    }
   ],
   "source": [
    "sns.boxplot(x = newMetaUserData['reading_time'])"
   ]
  },
  {
   "cell_type": "code",
   "execution_count": 39,
   "id": "e22fe226",
   "metadata": {},
   "outputs": [
    {
     "name": "stdout",
     "output_type": "stream",
     "text": [
      "Q1 =  319.0\n",
      "Q3 =  686.0\n",
      "IQR =  367.0\n",
      "Lower Bound =  -231.5\n",
      "Upper Bound =  1236.5\n",
      "Mean values of front camera =  566.4121320907647\n"
     ]
    }
   ],
   "source": [
    "Q1, Q3 = np.percentile(newMetaUserData['reading_time'],[25,75])\n",
    "print(\"Q1 = \",Q1)\n",
    "print(\"Q3 = \",Q3)\n",
    "IQR = Q3 - Q1\n",
    "print(\"IQR = \",IQR)\n",
    "low = Q1 - (1.5*IQR)\n",
    "upr = Q3 + (1.5*IQR)\n",
    "print(\"Lower Bound = \",low)\n",
    "print(\"Upper Bound = \",upr)\n",
    "mea = newMetaUserData['reading_time'].mean()\n",
    "print(\"Mean values of front camera = \",mea)"
   ]
  },
  {
   "cell_type": "code",
   "execution_count": 40,
   "id": "5ecc1f46",
   "metadata": {},
   "outputs": [
    {
     "name": "stderr",
     "output_type": "stream",
     "text": [
      "C:\\Users\\admin\\AppData\\Local\\Temp\\ipykernel_21076\\1447309158.py:1: SettingWithCopyWarning: \n",
      "A value is trying to be set on a copy of a slice from a DataFrame.\n",
      "Try using .loc[row_indexer,col_indexer] = value instead\n",
      "\n",
      "See the caveats in the documentation: https://pandas.pydata.org/pandas-docs/stable/user_guide/indexing.html#returning-a-view-versus-a-copy\n",
      "  newMetaUserData['reading_time'] = np.where(newMetaUserData['reading_time'] < low, mea, newMetaUserData['reading_time'])\n",
      "C:\\Users\\admin\\AppData\\Local\\Temp\\ipykernel_21076\\1447309158.py:2: SettingWithCopyWarning: \n",
      "A value is trying to be set on a copy of a slice from a DataFrame.\n",
      "Try using .loc[row_indexer,col_indexer] = value instead\n",
      "\n",
      "See the caveats in the documentation: https://pandas.pydata.org/pandas-docs/stable/user_guide/indexing.html#returning-a-view-versus-a-copy\n",
      "  newMetaUserData['reading_time'] = np.where(newMetaUserData['reading_time'] > upr, mea, newMetaUserData['reading_time'])\n"
     ]
    }
   ],
   "source": [
    "newMetaUserData['reading_time'] = np.where(newMetaUserData['reading_time'] < low, mea, newMetaUserData['reading_time'])\n",
    "newMetaUserData['reading_time'] = np.where(newMetaUserData['reading_time'] > upr, mea, newMetaUserData['reading_time'])"
   ]
  },
  {
   "cell_type": "markdown",
   "id": "24e639b8",
   "metadata": {},
   "source": [
    "##### Correlation b/w feature"
   ]
  },
  {
   "cell_type": "code",
   "execution_count": 41,
   "id": "9e2772c0",
   "metadata": {},
   "outputs": [
    {
     "data": {
      "text/html": [
       "<div>\n",
       "<style scoped>\n",
       "    .dataframe tbody tr th:only-of-type {\n",
       "        vertical-align: middle;\n",
       "    }\n",
       "\n",
       "    .dataframe tbody tr th {\n",
       "        vertical-align: top;\n",
       "    }\n",
       "\n",
       "    .dataframe thead th {\n",
       "        text-align: right;\n",
       "    }\n",
       "</style>\n",
       "<table border=\"1\" class=\"dataframe\">\n",
       "  <thead>\n",
       "    <tr style=\"text-align: right;\">\n",
       "      <th></th>\n",
       "      <th>read_percent</th>\n",
       "      <th>reading_time</th>\n",
       "      <th>category_name</th>\n",
       "    </tr>\n",
       "  </thead>\n",
       "  <tbody>\n",
       "    <tr>\n",
       "      <th>read_percent</th>\n",
       "      <td>1.000000</td>\n",
       "      <td>-0.014454</td>\n",
       "      <td>-0.010123</td>\n",
       "    </tr>\n",
       "    <tr>\n",
       "      <th>reading_time</th>\n",
       "      <td>-0.014454</td>\n",
       "      <td>1.000000</td>\n",
       "      <td>0.020491</td>\n",
       "    </tr>\n",
       "    <tr>\n",
       "      <th>category_name</th>\n",
       "      <td>-0.010123</td>\n",
       "      <td>0.020491</td>\n",
       "      <td>1.000000</td>\n",
       "    </tr>\n",
       "  </tbody>\n",
       "</table>\n",
       "</div>"
      ],
      "text/plain": [
       "               read_percent  reading_time  category_name\n",
       "read_percent       1.000000     -0.014454      -0.010123\n",
       "reading_time      -0.014454      1.000000       0.020491\n",
       "category_name     -0.010123      0.020491       1.000000"
      ]
     },
     "execution_count": 41,
     "metadata": {},
     "output_type": "execute_result"
    }
   ],
   "source": [
    "newMetaUserData.corr()"
   ]
  },
  {
   "cell_type": "code",
   "execution_count": 42,
   "id": "6c283009",
   "metadata": {},
   "outputs": [
    {
     "data": {
      "image/png": "[encoded data removed]",
      "text/plain": [
       "<Figure size 720x720 with 2 Axes>"
      ]
     },
     "metadata": {
      "needs_background": "light"
     },
     "output_type": "display_data"
    }
   ],
   "source": [
    "#pearson correlation\n",
    "corr = newMetaUserData.corr(method='pearson')\n",
    "top_corr_features = corr.index\n",
    "plt.figure(figsize=(10,10))\n",
    "#plot heat map\n",
    "g=sns.heatmap(newMetaUserData[top_corr_features].corr(),annot=True,cmap=\"PiYG\")"
   ]
  },
  {
   "cell_type": "markdown",
   "id": "69ac1e99",
   "metadata": {},
   "source": [
    "##### Check Distribution : Normalization"
   ]
  },
  {
   "cell_type": "code",
   "execution_count": 43,
   "id": "31d1db03",
   "metadata": {},
   "outputs": [
    {
     "data": {
      "text/plain": [
       "<AxesSubplot:ylabel='Count'>"
      ]
     },
     "execution_count": 43,
     "metadata": {},
     "output_type": "execute_result"
    },
    {
     "data": {
      "image/png": "[encoded data removed]",
      "text/plain": [
       "<Figure size 792x360 with 1 Axes>"
      ]
     },
     "metadata": {
      "needs_background": "light"
     },
     "output_type": "display_data"
    }
   ],
   "source": [
    "plt.figure(figsize=(11,5))\n",
    "sns.histplot(newMetaUserData)"
   ]
  },
  {
   "cell_type": "markdown",
   "id": "76a183d6",
   "metadata": {},
   "source": [
    "- Dataset is not normalize"
   ]
  },
  {
   "cell_type": "markdown",
   "id": "07ca5db9",
   "metadata": {},
   "source": [
    "##### MinMax scaler for data normalization"
   ]
  },
  {
   "cell_type": "code",
   "execution_count": 44,
   "id": "256b1ebd",
   "metadata": {},
   "outputs": [
    {
     "data": {
      "text/html": [
       "<div>\n",
       "<style scoped>\n",
       "    .dataframe tbody tr th:only-of-type {\n",
       "        vertical-align: middle;\n",
       "    }\n",
       "\n",
       "    .dataframe tbody tr th {\n",
       "        vertical-align: top;\n",
       "    }\n",
       "\n",
       "    .dataframe thead th {\n",
       "        text-align: right;\n",
       "    }\n",
       "</style>\n",
       "<table border=\"1\" class=\"dataframe\">\n",
       "  <thead>\n",
       "    <tr style=\"text-align: right;\">\n",
       "      <th></th>\n",
       "      <th>read_percent</th>\n",
       "      <th>reading_time</th>\n",
       "      <th>category_name</th>\n",
       "    </tr>\n",
       "  </thead>\n",
       "  <tbody>\n",
       "    <tr>\n",
       "      <th>0</th>\n",
       "      <td>1.0</td>\n",
       "      <td>0.000000</td>\n",
       "      <td>0.795455</td>\n",
       "    </tr>\n",
       "    <tr>\n",
       "      <th>1</th>\n",
       "      <td>1.0</td>\n",
       "      <td>0.000000</td>\n",
       "      <td>0.909091</td>\n",
       "    </tr>\n",
       "    <tr>\n",
       "      <th>2</th>\n",
       "      <td>1.0</td>\n",
       "      <td>0.000000</td>\n",
       "      <td>0.909091</td>\n",
       "    </tr>\n",
       "    <tr>\n",
       "      <th>3</th>\n",
       "      <td>1.0</td>\n",
       "      <td>0.000000</td>\n",
       "      <td>0.909091</td>\n",
       "    </tr>\n",
       "    <tr>\n",
       "      <th>4</th>\n",
       "      <td>1.0</td>\n",
       "      <td>0.000000</td>\n",
       "      <td>0.909091</td>\n",
       "    </tr>\n",
       "    <tr>\n",
       "      <th>...</th>\n",
       "      <td>...</td>\n",
       "      <td>...</td>\n",
       "      <td>...</td>\n",
       "    </tr>\n",
       "    <tr>\n",
       "      <th>15892128</th>\n",
       "      <td>0.0</td>\n",
       "      <td>0.458262</td>\n",
       "      <td>0.659091</td>\n",
       "    </tr>\n",
       "    <tr>\n",
       "      <th>15892129</th>\n",
       "      <td>0.0</td>\n",
       "      <td>0.458262</td>\n",
       "      <td>0.659091</td>\n",
       "    </tr>\n",
       "    <tr>\n",
       "      <th>15892130</th>\n",
       "      <td>0.0</td>\n",
       "      <td>0.458262</td>\n",
       "      <td>0.886364</td>\n",
       "    </tr>\n",
       "    <tr>\n",
       "      <th>15892131</th>\n",
       "      <td>0.0</td>\n",
       "      <td>0.458262</td>\n",
       "      <td>0.659091</td>\n",
       "    </tr>\n",
       "    <tr>\n",
       "      <th>15892132</th>\n",
       "      <td>0.0</td>\n",
       "      <td>0.458262</td>\n",
       "      <td>0.659091</td>\n",
       "    </tr>\n",
       "  </tbody>\n",
       "</table>\n",
       "<p>15892133 rows × 3 columns</p>\n",
       "</div>"
      ],
      "text/plain": [
       "          read_percent  reading_time  category_name\n",
       "0                  1.0      0.000000       0.795455\n",
       "1                  1.0      0.000000       0.909091\n",
       "2                  1.0      0.000000       0.909091\n",
       "3                  1.0      0.000000       0.909091\n",
       "4                  1.0      0.000000       0.909091\n",
       "...                ...           ...            ...\n",
       "15892128           0.0      0.458262       0.659091\n",
       "15892129           0.0      0.458262       0.659091\n",
       "15892130           0.0      0.458262       0.886364\n",
       "15892131           0.0      0.458262       0.659091\n",
       "15892132           0.0      0.458262       0.659091\n",
       "\n",
       "[15892133 rows x 3 columns]"
      ]
     },
     "execution_count": 44,
     "metadata": {},
     "output_type": "execute_result"
    }
   ],
   "source": [
    "from sklearn.preprocessing import MinMaxScaler\n",
    "scale = MinMaxScaler()\n",
    "scale.fit(newMetaUserData)\n",
    "feat = scale.transform(newMetaUserData)\n",
    "norm = pd.DataFrame(feat,columns=['read_percent','reading_time','category_name'])\n",
    "norm"
   ]
  },
  {
   "cell_type": "code",
   "execution_count": 45,
   "id": "04bff08c",
   "metadata": {},
   "outputs": [
    {
     "data": {
      "text/plain": [
       "<AxesSubplot:ylabel='Count'>"
      ]
     },
     "execution_count": 45,
     "metadata": {},
     "output_type": "execute_result"
    },
    {
     "data": {
      "image/png": "[encoded data removed]",
      "text/plain": [
       "<Figure size 792x360 with 1 Axes>"
      ]
     },
     "metadata": {
      "needs_background": "light"
     },
     "output_type": "display_data"
    }
   ],
   "source": [
    "plt.figure(figsize=(11,5))\n",
    "sns.histplot(norm)"
   ]
  },
  {
   "cell_type": "markdown",
   "id": "0b2c4b81",
   "metadata": {},
   "source": [
    "- Dataset is normalize"
   ]
  },
  {
   "cell_type": "code",
   "execution_count": 46,
   "id": "33fe9df3",
   "metadata": {},
   "outputs": [
    {
     "data": {
      "text/plain": [
       "array([-2.32726168,  0.52262628, -0.86965584])"
      ]
     },
     "execution_count": 46,
     "metadata": {},
     "output_type": "execute_result"
    }
   ],
   "source": [
    "# Skewnwss for dataset\n",
    "skew = stats.skew(norm)\n",
    "skew"
   ]
  },
  {
   "cell_type": "code",
   "execution_count": 47,
   "id": "cbc958ce",
   "metadata": {},
   "outputs": [
    {
     "data": {
      "text/plain": [
       "array([ 3.41614695,  0.03229291, -0.09322425])"
      ]
     },
     "execution_count": 47,
     "metadata": {},
     "output_type": "execute_result"
    }
   ],
   "source": [
    "# Kurtosis  for dataset\n",
    "kurto = stats.kurtosis(norm)\n",
    "kurto"
   ]
  },
  {
   "cell_type": "code",
   "execution_count": 48,
   "id": "f857684d",
   "metadata": {},
   "outputs": [
    {
     "data": {
      "text/plain": [
       "<AxesSubplot:ylabel='Count'>"
      ]
     },
     "execution_count": 48,
     "metadata": {},
     "output_type": "execute_result"
    },
    {
     "data": {
      "image/png": "[encoded data removed]",
      "text/plain": [
       "<Figure size 792x360 with 1 Axes>"
      ]
     },
     "metadata": {
      "needs_background": "light"
     },
     "output_type": "display_data"
    }
   ],
   "source": [
    "plt.figure(figsize=(11,5))\n",
    "sns.histplot(skew)"
   ]
  },
  {
   "cell_type": "code",
   "execution_count": 49,
   "id": "27392af4",
   "metadata": {},
   "outputs": [
    {
     "data": {
      "text/plain": [
       "<AxesSubplot:ylabel='Count'>"
      ]
     },
     "execution_count": 49,
     "metadata": {},
     "output_type": "execute_result"
    },
    {
     "data": {
      "image/png": "[encoded data removed]",
      "text/plain": [
       "<Figure size 792x360 with 1 Axes>"
      ]
     },
     "metadata": {
      "needs_background": "light"
     },
     "output_type": "display_data"
    }
   ],
   "source": [
    "plt.figure(figsize=(11,5))\n",
    "sns.histplot(kurto)"
   ]
  },
  {
   "cell_type": "markdown",
   "id": "97af0869",
   "metadata": {},
   "source": [
    "##### Defining X and y"
   ]
  },
  {
   "cell_type": "code",
   "execution_count": 50,
   "id": "193979c1",
   "metadata": {},
   "outputs": [
    {
     "name": "stdout",
     "output_type": "stream",
     "text": [
      "<class 'pandas.core.frame.DataFrame'>\n",
      "RangeIndex: 15892133 entries, 0 to 15892132\n",
      "Data columns (total 2 columns):\n",
      " #   Column        Dtype  \n",
      "---  ------        -----  \n",
      " 0   read_percent  float64\n",
      " 1   reading_time  float64\n",
      "dtypes: float64(2)\n",
      "memory usage: 242.5 MB\n"
     ]
    }
   ],
   "source": [
    "# X for modeling\n",
    "X = norm.iloc[:,:-1]\n",
    "y = newMetaUserData.category_name\n",
    "X.info()"
   ]
  },
  {
   "cell_type": "code",
   "execution_count": 51,
   "id": "2978ee2d",
   "metadata": {},
   "outputs": [
    {
     "data": {
      "text/plain": [
       "13240444    35\n",
       "15674670    40\n",
       "15674671    40\n",
       "15674672    40\n",
       "15674673    40\n",
       "            ..\n",
       "676375      29\n",
       "673123      29\n",
       "673124      39\n",
       "680099      29\n",
       "680100      29\n",
       "Name: category_name, Length: 15892133, dtype: int32"
      ]
     },
     "execution_count": 51,
     "metadata": {},
     "output_type": "execute_result"
    }
   ],
   "source": [
    "y"
   ]
  },
  {
   "cell_type": "markdown",
   "id": "9cf0cc71",
   "metadata": {},
   "source": [
    "##### using the first 75% of the data for training and evaluate model on the next 25% of the data"
   ]
  },
  {
   "cell_type": "code",
   "execution_count": 52,
   "id": "cd67e1e0",
   "metadata": {},
   "outputs": [
    {
     "data": {
      "text/html": [
       "<div>\n",
       "<style scoped>\n",
       "    .dataframe tbody tr th:only-of-type {\n",
       "        vertical-align: middle;\n",
       "    }\n",
       "\n",
       "    .dataframe tbody tr th {\n",
       "        vertical-align: top;\n",
       "    }\n",
       "\n",
       "    .dataframe thead th {\n",
       "        text-align: right;\n",
       "    }\n",
       "</style>\n",
       "<table border=\"1\" class=\"dataframe\">\n",
       "  <thead>\n",
       "    <tr style=\"text-align: right;\">\n",
       "      <th></th>\n",
       "      <th>read_percent</th>\n",
       "      <th>reading_time</th>\n",
       "    </tr>\n",
       "  </thead>\n",
       "  <tbody>\n",
       "    <tr>\n",
       "      <th>0</th>\n",
       "      <td>1.0</td>\n",
       "      <td>0.000000</td>\n",
       "    </tr>\n",
       "    <tr>\n",
       "      <th>1</th>\n",
       "      <td>1.0</td>\n",
       "      <td>0.000000</td>\n",
       "    </tr>\n",
       "    <tr>\n",
       "      <th>2</th>\n",
       "      <td>1.0</td>\n",
       "      <td>0.000000</td>\n",
       "    </tr>\n",
       "    <tr>\n",
       "      <th>3</th>\n",
       "      <td>1.0</td>\n",
       "      <td>0.000000</td>\n",
       "    </tr>\n",
       "    <tr>\n",
       "      <th>4</th>\n",
       "      <td>1.0</td>\n",
       "      <td>0.000000</td>\n",
       "    </tr>\n",
       "    <tr>\n",
       "      <th>...</th>\n",
       "      <td>...</td>\n",
       "      <td>...</td>\n",
       "    </tr>\n",
       "    <tr>\n",
       "      <th>11919094</th>\n",
       "      <td>1.0</td>\n",
       "      <td>0.555016</td>\n",
       "    </tr>\n",
       "    <tr>\n",
       "      <th>11919095</th>\n",
       "      <td>1.0</td>\n",
       "      <td>0.555016</td>\n",
       "    </tr>\n",
       "    <tr>\n",
       "      <th>11919096</th>\n",
       "      <td>0.0</td>\n",
       "      <td>0.555016</td>\n",
       "    </tr>\n",
       "    <tr>\n",
       "      <th>11919097</th>\n",
       "      <td>0.0</td>\n",
       "      <td>0.555016</td>\n",
       "    </tr>\n",
       "    <tr>\n",
       "      <th>11919098</th>\n",
       "      <td>0.0</td>\n",
       "      <td>0.555016</td>\n",
       "    </tr>\n",
       "  </tbody>\n",
       "</table>\n",
       "<p>11919099 rows × 2 columns</p>\n",
       "</div>"
      ],
      "text/plain": [
       "          read_percent  reading_time\n",
       "0                  1.0      0.000000\n",
       "1                  1.0      0.000000\n",
       "2                  1.0      0.000000\n",
       "3                  1.0      0.000000\n",
       "4                  1.0      0.000000\n",
       "...                ...           ...\n",
       "11919094           1.0      0.555016\n",
       "11919095           1.0      0.555016\n",
       "11919096           0.0      0.555016\n",
       "11919097           0.0      0.555016\n",
       "11919098           0.0      0.555016\n",
       "\n",
       "[11919099 rows x 2 columns]"
      ]
     },
     "execution_count": 52,
     "metadata": {},
     "output_type": "execute_result"
    }
   ],
   "source": [
    "X_train = X.iloc[:int((len(newMetaUserData)*3)/4),:]\n",
    "X_train"
   ]
  },
  {
   "cell_type": "code",
   "execution_count": 53,
   "id": "6e274c34",
   "metadata": {},
   "outputs": [
    {
     "data": {
      "text/html": [
       "<div>\n",
       "<style scoped>\n",
       "    .dataframe tbody tr th:only-of-type {\n",
       "        vertical-align: middle;\n",
       "    }\n",
       "\n",
       "    .dataframe tbody tr th {\n",
       "        vertical-align: top;\n",
       "    }\n",
       "\n",
       "    .dataframe thead th {\n",
       "        text-align: right;\n",
       "    }\n",
       "</style>\n",
       "<table border=\"1\" class=\"dataframe\">\n",
       "  <thead>\n",
       "    <tr style=\"text-align: right;\">\n",
       "      <th></th>\n",
       "      <th>read_percent</th>\n",
       "      <th>reading_time</th>\n",
       "    </tr>\n",
       "  </thead>\n",
       "  <tbody>\n",
       "    <tr>\n",
       "      <th>11919099</th>\n",
       "      <td>1.0</td>\n",
       "      <td>0.555016</td>\n",
       "    </tr>\n",
       "    <tr>\n",
       "      <th>11919100</th>\n",
       "      <td>0.0</td>\n",
       "      <td>0.555016</td>\n",
       "    </tr>\n",
       "    <tr>\n",
       "      <th>11919101</th>\n",
       "      <td>1.0</td>\n",
       "      <td>0.555016</td>\n",
       "    </tr>\n",
       "    <tr>\n",
       "      <th>11919102</th>\n",
       "      <td>1.0</td>\n",
       "      <td>0.555016</td>\n",
       "    </tr>\n",
       "    <tr>\n",
       "      <th>11919103</th>\n",
       "      <td>1.0</td>\n",
       "      <td>0.555016</td>\n",
       "    </tr>\n",
       "    <tr>\n",
       "      <th>...</th>\n",
       "      <td>...</td>\n",
       "      <td>...</td>\n",
       "    </tr>\n",
       "    <tr>\n",
       "      <th>15892128</th>\n",
       "      <td>0.0</td>\n",
       "      <td>0.458262</td>\n",
       "    </tr>\n",
       "    <tr>\n",
       "      <th>15892129</th>\n",
       "      <td>0.0</td>\n",
       "      <td>0.458262</td>\n",
       "    </tr>\n",
       "    <tr>\n",
       "      <th>15892130</th>\n",
       "      <td>0.0</td>\n",
       "      <td>0.458262</td>\n",
       "    </tr>\n",
       "    <tr>\n",
       "      <th>15892131</th>\n",
       "      <td>0.0</td>\n",
       "      <td>0.458262</td>\n",
       "    </tr>\n",
       "    <tr>\n",
       "      <th>15892132</th>\n",
       "      <td>0.0</td>\n",
       "      <td>0.458262</td>\n",
       "    </tr>\n",
       "  </tbody>\n",
       "</table>\n",
       "<p>3973034 rows × 2 columns</p>\n",
       "</div>"
      ],
      "text/plain": [
       "          read_percent  reading_time\n",
       "11919099           1.0      0.555016\n",
       "11919100           0.0      0.555016\n",
       "11919101           1.0      0.555016\n",
       "11919102           1.0      0.555016\n",
       "11919103           1.0      0.555016\n",
       "...                ...           ...\n",
       "15892128           0.0      0.458262\n",
       "15892129           0.0      0.458262\n",
       "15892130           0.0      0.458262\n",
       "15892131           0.0      0.458262\n",
       "15892132           0.0      0.458262\n",
       "\n",
       "[3973034 rows x 2 columns]"
      ]
     },
     "execution_count": 53,
     "metadata": {},
     "output_type": "execute_result"
    }
   ],
   "source": [
    "X_test = X.iloc[int((len(newMetaUserData)*3)/4):,:]\n",
    "X_test"
   ]
  },
  {
   "cell_type": "code",
   "execution_count": 54,
   "id": "5714bb45",
   "metadata": {},
   "outputs": [
    {
     "data": {
      "text/plain": [
       "13240444    35\n",
       "15674670    40\n",
       "15674671    40\n",
       "15674672    40\n",
       "15674673    40\n",
       "            ..\n",
       "6542912      9\n",
       "6542911      9\n",
       "6542910      9\n",
       "6542909      9\n",
       "6542908      9\n",
       "Name: category_name, Length: 11919099, dtype: int32"
      ]
     },
     "execution_count": 54,
     "metadata": {},
     "output_type": "execute_result"
    }
   ],
   "source": [
    "y_train = y.iloc[:int((len(newMetaUserData)*3)/4)]\n",
    "y_train"
   ]
  },
  {
   "cell_type": "code",
   "execution_count": 55,
   "id": "ff096437",
   "metadata": {},
   "outputs": [
    {
     "data": {
      "text/plain": [
       "6542907     9\n",
       "6542906     9\n",
       "6542905     9\n",
       "6542904     9\n",
       "6542903     9\n",
       "           ..\n",
       "676375     29\n",
       "673123     29\n",
       "673124     39\n",
       "680099     29\n",
       "680100     29\n",
       "Name: category_name, Length: 3973034, dtype: int32"
      ]
     },
     "execution_count": 55,
     "metadata": {},
     "output_type": "execute_result"
    }
   ],
   "source": [
    "y_test = y.iloc[int((len(newMetaUserData)*3)/4):]\n",
    "y_test"
   ]
  },
  {
   "cell_type": "markdown",
   "id": "c66df030",
   "metadata": {},
   "source": [
    "##### Model Selection and Model Training,\n",
    "##### Applying ML Algorithms for selecting best model\n",
    "##### 1. Logistic Regression"
   ]
  },
  {
   "cell_type": "code",
   "execution_count": 57,
   "id": "c8dd8d07",
   "metadata": {},
   "outputs": [],
   "source": [
    "# For Multiclass classification\n",
    "from sklearn.multiclass import OneVsRestClassifier"
   ]
  },
  {
   "cell_type": "code",
   "execution_count": null,
   "id": "ecfd5564",
   "metadata": {},
   "outputs": [],
   "source": [
    "# Training the model\n",
    "from sklearn.linear_model import LogisticRegression\n",
    "model_logr = OneVsRestClassifier(LogisticRegression())\n",
    "model_logr.fit(X_train,y_train)\n",
    "import warnings\n",
    "warnings.filterwarnings('ignore')"
   ]
  },
  {
   "cell_type": "code",
   "execution_count": null,
   "id": "c14ce75b",
   "metadata": {},
   "outputs": [],
   "source": [
    "# Predicting the model\n",
    "y_predict_log = model_logr.predict(X_test)\n",
    "# Finding accuracy, precision, recall and confusion matrix\n",
    "print(accuracy_score(y_test,y_predict_log))\n",
    "print(classification_report(y_test,y_predict_log))"
   ]
  },
  {
   "cell_type": "markdown",
   "id": "176d55dd",
   "metadata": {},
   "source": [
    "##### 2. Decision Tree"
   ]
  },
  {
   "cell_type": "code",
   "execution_count": 58,
   "id": "e1266ddc",
   "metadata": {},
   "outputs": [
    {
     "data": {
      "text/html": [
       "<style>#sk-container-id-1 {color: black;background-color: white;}#sk-container-id-1 pre{padding: 0;}#sk-container-id-1 div.sk-toggleable {background-color: white;}#sk-container-id-1 label.sk-toggleable__label {cursor: pointer;display: block;width: 100%;margin-bottom: 0;padding: 0.3em;box-sizing: border-box;text-align: center;}#sk-container-id-1 label.sk-toggleable__label-arrow:before {content: \"▸\";float: left;margin-right: 0.25em;color: #696969;}#sk-container-id-1 label.sk-toggleable__label-arrow:hover:before {color: black;}#sk-container-id-1 div.sk-estimator:hover label.sk-toggleable__label-arrow:before {color: black;}#sk-container-id-1 div.sk-toggleable__content {max-height: 0;max-width: 0;overflow: hidden;text-align: left;background-color: #f0f8ff;}#sk-container-id-1 div.sk-toggleable__content pre {margin: 0.2em;color: black;border-radius: 0.25em;background-color: #f0f8ff;}#sk-container-id-1 input.sk-toggleable__control:checked~div.sk-toggleable__content {max-height: 200px;max-width: 100%;overflow: auto;}#sk-container-id-1 input.sk-toggleable__control:checked~label.sk-toggleable__label-arrow:before {content: \"▾\";}#sk-container-id-1 div.sk-estimator input.sk-toggleable__control:checked~label.sk-toggleable__label {background-color: #d4ebff;}#sk-container-id-1 div.sk-label input.sk-toggleable__control:checked~label.sk-toggleable__label {background-color: #d4ebff;}#sk-container-id-1 input.sk-hidden--visually {border: 0;clip: rect(1px 1px 1px 1px);clip: rect(1px, 1px, 1px, 1px);height: 1px;margin: -1px;overflow: hidden;padding: 0;position: absolute;width: 1px;}#sk-container-id-1 div.sk-estimator {font-family: monospace;background-color: #f0f8ff;border: 1px dotted black;border-radius: 0.25em;box-sizing: border-box;margin-bottom: 0.5em;}#sk-container-id-1 div.sk-estimator:hover {background-color: #d4ebff;}#sk-container-id-1 div.sk-parallel-item::after {content: \"\";width: 100%;border-bottom: 1px solid gray;flex-grow: 1;}#sk-container-id-1 div.sk-label:hover label.sk-toggleable__label {background-color: #d4ebff;}#sk-container-id-1 div.sk-serial::before {content: \"\";position: absolute;border-left: 1px solid gray;box-sizing: border-box;top: 0;bottom: 0;left: 50%;z-index: 0;}#sk-container-id-1 div.sk-serial {display: flex;flex-direction: column;align-items: center;background-color: white;padding-right: 0.2em;padding-left: 0.2em;position: relative;}#sk-container-id-1 div.sk-item {position: relative;z-index: 1;}#sk-container-id-1 div.sk-parallel {display: flex;align-items: stretch;justify-content: center;background-color: white;position: relative;}#sk-container-id-1 div.sk-item::before, #sk-container-id-1 div.sk-parallel-item::before {content: \"\";position: absolute;border-left: 1px solid gray;box-sizing: border-box;top: 0;bottom: 0;left: 50%;z-index: -1;}#sk-container-id-1 div.sk-parallel-item {display: flex;flex-direction: column;z-index: 1;position: relative;background-color: white;}#sk-container-id-1 div.sk-parallel-item:first-child::after {align-self: flex-end;width: 50%;}#sk-container-id-1 div.sk-parallel-item:last-child::after {align-self: flex-start;width: 50%;}#sk-container-id-1 div.sk-parallel-item:only-child::after {width: 0;}#sk-container-id-1 div.sk-dashed-wrapped {border: 1px dashed gray;margin: 0 0.4em 0.5em 0.4em;box-sizing: border-box;padding-bottom: 0.4em;background-color: white;}#sk-container-id-1 div.sk-label label {font-family: monospace;font-weight: bold;display: inline-block;line-height: 1.2em;}#sk-container-id-1 div.sk-label-container {text-align: center;}#sk-container-id-1 div.sk-container {/* jupyter's `normalize.less` sets `[hidden] { display: none; }` but bootstrap.min.css set `[hidden] { display: none !important; }` so we also need the `!important` here to be able to override the default hidden behavior on the sphinx rendered scikit-learn.org. See: https://github.com/scikit-learn/scikit-learn/issues/21755 */display: inline-block !important;position: relative;}#sk-container-id-1 div.sk-text-repr-fallback {display: none;}</style><div id=\"sk-container-id-1\" class=\"sk-top-container\"><div class=\"sk-text-repr-fallback\"><pre>OneVsRestClassifier(estimator=DecisionTreeClassifier())</pre><b>In a Jupyter environment, please rerun this cell to show the HTML representation or trust the notebook. <br />On GitHub, the HTML representation is unable to render, please try loading this page with nbviewer.org.</b></div><div class=\"sk-container\" hidden><div class=\"sk-item sk-dashed-wrapped\"><div class=\"sk-label-container\"><div class=\"sk-label sk-toggleable\"><input class=\"sk-toggleable__control sk-hidden--visually\" id=\"sk-estimator-id-1\" type=\"checkbox\" ><label for=\"sk-estimator-id-1\" class=\"sk-toggleable__label sk-toggleable__label-arrow\">OneVsRestClassifier</label><div class=\"sk-toggleable__content\"><pre>OneVsRestClassifier(estimator=DecisionTreeClassifier())</pre></div></div></div><div class=\"sk-parallel\"><div class=\"sk-parallel-item\"><div class=\"sk-item\"><div class=\"sk-label-container\"><div class=\"sk-label sk-toggleable\"><input class=\"sk-toggleable__control sk-hidden--visually\" id=\"sk-estimator-id-2\" type=\"checkbox\" ><label for=\"sk-estimator-id-2\" class=\"sk-toggleable__label sk-toggleable__label-arrow\">estimator: DecisionTreeClassifier</label><div class=\"sk-toggleable__content\"><pre>DecisionTreeClassifier()</pre></div></div></div><div class=\"sk-serial\"><div class=\"sk-item\"><div class=\"sk-estimator sk-toggleable\"><input class=\"sk-toggleable__control sk-hidden--visually\" id=\"sk-estimator-id-3\" type=\"checkbox\" ><label for=\"sk-estimator-id-3\" class=\"sk-toggleable__label sk-toggleable__label-arrow\">DecisionTreeClassifier</label><div class=\"sk-toggleable__content\"><pre>DecisionTreeClassifier()</pre></div></div></div></div></div></div></div></div></div></div>"
      ],
      "text/plain": [
       "OneVsRestClassifier(estimator=DecisionTreeClassifier())"
      ]
     },
     "execution_count": 58,
     "metadata": {},
     "output_type": "execute_result"
    }
   ],
   "source": [
    "# Training the model\n",
    "from sklearn.tree import DecisionTreeClassifier\n",
    "model_dt=OneVsRestClassifier(DecisionTreeClassifier())\n",
    "model_dt.fit(X_train,y_train)"
   ]
  },
  {
   "cell_type": "code",
   "execution_count": 60,
   "id": "221ed4bb",
   "metadata": {},
   "outputs": [
    {
     "name": "stdout",
     "output_type": "stream",
     "text": [
      "0.30868172786842496\n"
     ]
    },
    {
     "name": "stderr",
     "output_type": "stream",
     "text": [
      "C:\\Users\\admin\\anaconda3\\envs\\kivy\\lib\\site-packages\\sklearn\\metrics\\_classification.py:1327: UndefinedMetricWarning: Precision and F-score are ill-defined and being set to 0.0 in labels with no predicted samples. Use `zero_division` parameter to control this behavior.\n",
      "  _warn_prf(average, modifier, msg_start, len(result))\n",
      "C:\\Users\\admin\\anaconda3\\envs\\kivy\\lib\\site-packages\\sklearn\\metrics\\_classification.py:1327: UndefinedMetricWarning: Precision and F-score are ill-defined and being set to 0.0 in labels with no predicted samples. Use `zero_division` parameter to control this behavior.\n",
      "  _warn_prf(average, modifier, msg_start, len(result))\n"
     ]
    },
    {
     "name": "stdout",
     "output_type": "stream",
     "text": [
      "              precision    recall  f1-score   support\n",
      "\n",
      "           0       0.00      0.00      0.00      1367\n",
      "           1       0.00      0.00      0.00     22225\n",
      "           2       0.00      0.00      0.00      2134\n",
      "           3       0.00      0.00      0.00     15345\n",
      "           4       0.00      0.00      0.00     12479\n",
      "           5       0.00      0.00      0.00       120\n",
      "           6       0.00      0.00      0.00         1\n",
      "           7       0.00      0.00      0.00      9152\n",
      "           8       0.00      0.00      0.00      2534\n",
      "           9       0.00      0.00      0.00    201975\n",
      "          10       0.00      0.00      0.00       676\n",
      "          11       0.00      0.00      0.00     30387\n",
      "          12       0.00      0.00      0.00     11076\n",
      "          13       0.00      0.00      0.00      9047\n",
      "          14       0.00      0.00      0.00        24\n",
      "          15       0.00      0.00      0.00      5476\n",
      "          16       0.00      0.00      0.00     33547\n",
      "          17       0.00      0.00      0.00    119652\n",
      "          18       0.00      0.00      0.00      2191\n",
      "          19       0.00      0.00      0.00      4252\n",
      "          20       0.00      0.00      0.00    367851\n",
      "          21       0.00      0.00      0.00     49395\n",
      "          22       0.00      0.00      0.00        95\n",
      "          23       0.00      0.00      0.00     74145\n",
      "          24       0.00      0.00      0.00       191\n",
      "          25       0.00      0.00      0.00     43109\n",
      "          26       0.00      0.00      0.00     46291\n",
      "          27       0.00      0.00      0.00      3743\n",
      "          28       0.00      0.00      0.00     12256\n",
      "          29       0.00      0.00      0.00    715249\n",
      "          30       0.00      0.00      0.00      1262\n",
      "          31       0.00      0.00      0.00        67\n",
      "          32       0.00      0.00      0.00       170\n",
      "          33       0.00      0.00      0.00      2724\n",
      "          34       0.00      0.00      0.00      7444\n",
      "          35       0.31      1.00      0.47   1226403\n",
      "          36       0.00      0.00      0.00      1785\n",
      "          37       0.00      0.00      0.00       383\n",
      "          38       0.00      0.00      0.00     44082\n",
      "          39       0.00      0.00      0.00    196662\n",
      "          40       0.00      0.00      0.00    480558\n",
      "          41       0.00      0.00      0.00     70368\n",
      "          42       0.00      0.00      0.00     10221\n",
      "          43       0.00      0.00      0.00     38112\n",
      "          44       0.00      0.00      0.00     96808\n",
      "\n",
      "    accuracy                           0.31   3973034\n",
      "   macro avg       0.01      0.02      0.01   3973034\n",
      "weighted avg       0.10      0.31      0.15   3973034\n",
      "\n"
     ]
    },
    {
     "name": "stderr",
     "output_type": "stream",
     "text": [
      "C:\\Users\\admin\\anaconda3\\envs\\kivy\\lib\\site-packages\\sklearn\\metrics\\_classification.py:1327: UndefinedMetricWarning: Precision and F-score are ill-defined and being set to 0.0 in labels with no predicted samples. Use `zero_division` parameter to control this behavior.\n",
      "  _warn_prf(average, modifier, msg_start, len(result))\n"
     ]
    }
   ],
   "source": [
    "# Predicting the model\n",
    "y_predict_dt = model_dt.predict(X_test)\n",
    "# Finding accuracy, precision, recall and confusion matrix\n",
    "print(accuracy_score(y_test,y_predict_dt))\n",
    "print(classification_report(y_test,y_predict_dt))"
   ]
  },
  {
   "cell_type": "code",
   "execution_count": null,
   "id": "9ec3a35b",
   "metadata": {},
   "outputs": [],
   "source": []
  },
  {
   "cell_type": "code",
   "execution_count": null,
   "id": "97ba48e5",
   "metadata": {},
   "outputs": [],
   "source": []
  },
  {
   "cell_type": "markdown",
   "id": "5b683585",
   "metadata": {},
   "source": [
    "##### Model Evaluation"
   ]
  },
  {
   "cell_type": "markdown",
   "id": "809c9258",
   "metadata": {},
   "source": [
    "##### 1. Accuracy Score"
   ]
  },
  {
   "cell_type": "code",
   "execution_count": 61,
   "id": "992cb450",
   "metadata": {},
   "outputs": [
    {
     "data": {
      "text/plain": [
       "0.30868172786842496"
      ]
     },
     "execution_count": 61,
     "metadata": {},
     "output_type": "execute_result"
    }
   ],
   "source": [
    "# acuracy score\n",
    "accuracy_score(y_test,y_predict_dt)"
   ]
  },
  {
   "cell_type": "markdown",
   "id": "ab0c2b3f",
   "metadata": {},
   "source": [
    "##### 2. Confusion Matrix"
   ]
  },
  {
   "cell_type": "code",
   "execution_count": 62,
   "id": "9efe67a8",
   "metadata": {},
   "outputs": [
    {
     "name": "stdout",
     "output_type": "stream",
     "text": [
      "Counter({35: 1226403, 29: 715249, 40: 480558, 20: 367851, 9: 201975, 39: 196662, 17: 119652, 44: 96808, 23: 74145, 41: 70368, 21: 49395, 26: 46291, 38: 44082, 25: 43109, 43: 38112, 16: 33547, 11: 30387, 1: 22225, 3: 15345, 4: 12479, 28: 12256, 12: 11076, 42: 10221, 7: 9152, 13: 9047, 34: 7444, 15: 5476, 19: 4252, 27: 3743, 33: 2724, 8: 2534, 18: 2191, 2: 2134, 36: 1785, 0: 1367, 30: 1262, 10: 676, 37: 383, 24: 191, 32: 170, 5: 120, 22: 95, 31: 67, 14: 24, 6: 1})\n"
     ]
    },
    {
     "data": {
      "text/html": [
       "<div>\n",
       "<style scoped>\n",
       "    .dataframe tbody tr th:only-of-type {\n",
       "        vertical-align: middle;\n",
       "    }\n",
       "\n",
       "    .dataframe tbody tr th {\n",
       "        vertical-align: top;\n",
       "    }\n",
       "\n",
       "    .dataframe thead th {\n",
       "        text-align: right;\n",
       "    }\n",
       "</style>\n",
       "<table border=\"1\" class=\"dataframe\">\n",
       "  <thead>\n",
       "    <tr style=\"text-align: right;\">\n",
       "      <th>col_0</th>\n",
       "      <th>35</th>\n",
       "    </tr>\n",
       "    <tr>\n",
       "      <th>category_name</th>\n",
       "      <th></th>\n",
       "    </tr>\n",
       "  </thead>\n",
       "  <tbody>\n",
       "    <tr>\n",
       "      <th>0</th>\n",
       "      <td>1367</td>\n",
       "    </tr>\n",
       "    <tr>\n",
       "      <th>1</th>\n",
       "      <td>22225</td>\n",
       "    </tr>\n",
       "    <tr>\n",
       "      <th>2</th>\n",
       "      <td>2134</td>\n",
       "    </tr>\n",
       "    <tr>\n",
       "      <th>3</th>\n",
       "      <td>15345</td>\n",
       "    </tr>\n",
       "    <tr>\n",
       "      <th>4</th>\n",
       "      <td>12479</td>\n",
       "    </tr>\n",
       "    <tr>\n",
       "      <th>5</th>\n",
       "      <td>120</td>\n",
       "    </tr>\n",
       "    <tr>\n",
       "      <th>6</th>\n",
       "      <td>1</td>\n",
       "    </tr>\n",
       "    <tr>\n",
       "      <th>7</th>\n",
       "      <td>9152</td>\n",
       "    </tr>\n",
       "    <tr>\n",
       "      <th>8</th>\n",
       "      <td>2534</td>\n",
       "    </tr>\n",
       "    <tr>\n",
       "      <th>9</th>\n",
       "      <td>201975</td>\n",
       "    </tr>\n",
       "    <tr>\n",
       "      <th>10</th>\n",
       "      <td>676</td>\n",
       "    </tr>\n",
       "    <tr>\n",
       "      <th>11</th>\n",
       "      <td>30387</td>\n",
       "    </tr>\n",
       "    <tr>\n",
       "      <th>12</th>\n",
       "      <td>11076</td>\n",
       "    </tr>\n",
       "    <tr>\n",
       "      <th>13</th>\n",
       "      <td>9047</td>\n",
       "    </tr>\n",
       "    <tr>\n",
       "      <th>14</th>\n",
       "      <td>24</td>\n",
       "    </tr>\n",
       "    <tr>\n",
       "      <th>15</th>\n",
       "      <td>5476</td>\n",
       "    </tr>\n",
       "    <tr>\n",
       "      <th>16</th>\n",
       "      <td>33547</td>\n",
       "    </tr>\n",
       "    <tr>\n",
       "      <th>17</th>\n",
       "      <td>119652</td>\n",
       "    </tr>\n",
       "    <tr>\n",
       "      <th>18</th>\n",
       "      <td>2191</td>\n",
       "    </tr>\n",
       "    <tr>\n",
       "      <th>19</th>\n",
       "      <td>4252</td>\n",
       "    </tr>\n",
       "    <tr>\n",
       "      <th>20</th>\n",
       "      <td>367851</td>\n",
       "    </tr>\n",
       "    <tr>\n",
       "      <th>21</th>\n",
       "      <td>49395</td>\n",
       "    </tr>\n",
       "    <tr>\n",
       "      <th>22</th>\n",
       "      <td>95</td>\n",
       "    </tr>\n",
       "    <tr>\n",
       "      <th>23</th>\n",
       "      <td>74145</td>\n",
       "    </tr>\n",
       "    <tr>\n",
       "      <th>24</th>\n",
       "      <td>191</td>\n",
       "    </tr>\n",
       "    <tr>\n",
       "      <th>25</th>\n",
       "      <td>43109</td>\n",
       "    </tr>\n",
       "    <tr>\n",
       "      <th>26</th>\n",
       "      <td>46291</td>\n",
       "    </tr>\n",
       "    <tr>\n",
       "      <th>27</th>\n",
       "      <td>3743</td>\n",
       "    </tr>\n",
       "    <tr>\n",
       "      <th>28</th>\n",
       "      <td>12256</td>\n",
       "    </tr>\n",
       "    <tr>\n",
       "      <th>29</th>\n",
       "      <td>715249</td>\n",
       "    </tr>\n",
       "    <tr>\n",
       "      <th>30</th>\n",
       "      <td>1262</td>\n",
       "    </tr>\n",
       "    <tr>\n",
       "      <th>31</th>\n",
       "      <td>67</td>\n",
       "    </tr>\n",
       "    <tr>\n",
       "      <th>32</th>\n",
       "      <td>170</td>\n",
       "    </tr>\n",
       "    <tr>\n",
       "      <th>33</th>\n",
       "      <td>2724</td>\n",
       "    </tr>\n",
       "    <tr>\n",
       "      <th>34</th>\n",
       "      <td>7444</td>\n",
       "    </tr>\n",
       "    <tr>\n",
       "      <th>35</th>\n",
       "      <td>1226403</td>\n",
       "    </tr>\n",
       "    <tr>\n",
       "      <th>36</th>\n",
       "      <td>1785</td>\n",
       "    </tr>\n",
       "    <tr>\n",
       "      <th>37</th>\n",
       "      <td>383</td>\n",
       "    </tr>\n",
       "    <tr>\n",
       "      <th>38</th>\n",
       "      <td>44082</td>\n",
       "    </tr>\n",
       "    <tr>\n",
       "      <th>39</th>\n",
       "      <td>196662</td>\n",
       "    </tr>\n",
       "    <tr>\n",
       "      <th>40</th>\n",
       "      <td>480558</td>\n",
       "    </tr>\n",
       "    <tr>\n",
       "      <th>41</th>\n",
       "      <td>70368</td>\n",
       "    </tr>\n",
       "    <tr>\n",
       "      <th>42</th>\n",
       "      <td>10221</td>\n",
       "    </tr>\n",
       "    <tr>\n",
       "      <th>43</th>\n",
       "      <td>38112</td>\n",
       "    </tr>\n",
       "    <tr>\n",
       "      <th>44</th>\n",
       "      <td>96808</td>\n",
       "    </tr>\n",
       "  </tbody>\n",
       "</table>\n",
       "</div>"
      ],
      "text/plain": [
       "col_0               35\n",
       "category_name         \n",
       "0                 1367\n",
       "1                22225\n",
       "2                 2134\n",
       "3                15345\n",
       "4                12479\n",
       "5                  120\n",
       "6                    1\n",
       "7                 9152\n",
       "8                 2534\n",
       "9               201975\n",
       "10                 676\n",
       "11               30387\n",
       "12               11076\n",
       "13                9047\n",
       "14                  24\n",
       "15                5476\n",
       "16               33547\n",
       "17              119652\n",
       "18                2191\n",
       "19                4252\n",
       "20              367851\n",
       "21               49395\n",
       "22                  95\n",
       "23               74145\n",
       "24                 191\n",
       "25               43109\n",
       "26               46291\n",
       "27                3743\n",
       "28               12256\n",
       "29              715249\n",
       "30                1262\n",
       "31                  67\n",
       "32                 170\n",
       "33                2724\n",
       "34                7444\n",
       "35             1226403\n",
       "36                1785\n",
       "37                 383\n",
       "38               44082\n",
       "39              196662\n",
       "40              480558\n",
       "41               70368\n",
       "42               10221\n",
       "43               38112\n",
       "44               96808"
      ]
     },
     "execution_count": 62,
     "metadata": {},
     "output_type": "execute_result"
    }
   ],
   "source": [
    "print(Counter(y_test))\n",
    "pd.crosstab(y_test,y_predict_dt)"
   ]
  },
  {
   "cell_type": "code",
   "execution_count": 63,
   "id": "5226698c",
   "metadata": {},
   "outputs": [
    {
     "data": {
      "text/plain": [
       "array([[0, 0, 0, ..., 0, 0, 0],\n",
       "       [0, 0, 0, ..., 0, 0, 0],\n",
       "       [0, 0, 0, ..., 0, 0, 0],\n",
       "       ...,\n",
       "       [0, 0, 0, ..., 0, 0, 0],\n",
       "       [0, 0, 0, ..., 0, 0, 0],\n",
       "       [0, 0, 0, ..., 0, 0, 0]], dtype=int64)"
      ]
     },
     "execution_count": 63,
     "metadata": {},
     "output_type": "execute_result"
    }
   ],
   "source": [
    "confusion_matrix(y_test,y_predict_dt)"
   ]
  },
  {
   "cell_type": "markdown",
   "id": "59427912",
   "metadata": {},
   "source": [
    "##### 3. MSE and RMSE"
   ]
  },
  {
   "cell_type": "code",
   "execution_count": 64,
   "id": "70049474",
   "metadata": {},
   "outputs": [
    {
     "name": "stdout",
     "output_type": "stream",
     "text": [
      "113.96016822408265\n",
      "10.675212795259991\n"
     ]
    }
   ],
   "source": [
    "# errrors\n",
    "from sklearn.metrics import mean_squared_error\n",
    "import math\n",
    "print(mean_squared_error(y_test,y_predict_dt))\n",
    "print(math.sqrt(mean_squared_error(y_test,y_predict_dt)))"
   ]
  },
  {
   "cell_type": "markdown",
   "id": "ffdbb9f2",
   "metadata": {},
   "source": [
    "##### 4. Precision"
   ]
  },
  {
   "cell_type": "code",
   "execution_count": 65,
   "id": "df1feb0c",
   "metadata": {},
   "outputs": [
    {
     "name": "stdout",
     "output_type": "stream",
     "text": [
      "Precision: 0.309\n"
     ]
    }
   ],
   "source": [
    "from sklearn.metrics import precision_score, recall_score, f1_score, classification_report\n",
    "# Precision \n",
    "print('Precision: %.3f' % precision_score(y_test,y_predict_dt, average = 'micro'))"
   ]
  },
  {
   "cell_type": "markdown",
   "id": "da6ed737",
   "metadata": {},
   "source": [
    "##### 5. Recall"
   ]
  },
  {
   "cell_type": "code",
   "execution_count": 66,
   "id": "6c3ab66c",
   "metadata": {},
   "outputs": [
    {
     "name": "stdout",
     "output_type": "stream",
     "text": [
      "Recall: 0.309\n"
     ]
    }
   ],
   "source": [
    "# Recall \n",
    "print('Recall: %.3f' % recall_score(y_test,y_predict_dt, average = 'micro'))"
   ]
  },
  {
   "cell_type": "markdown",
   "id": "8ea6df10",
   "metadata": {},
   "source": [
    "##### 6. F1 Score"
   ]
  },
  {
   "cell_type": "code",
   "execution_count": 67,
   "id": "a2afe383",
   "metadata": {},
   "outputs": [
    {
     "name": "stdout",
     "output_type": "stream",
     "text": [
      "F1_score: 0.309\n"
     ]
    }
   ],
   "source": [
    "# F1_score \n",
    "print('F1_score: %.3f' % f1_score(y_test,y_predict_dt, average = 'micro'))"
   ]
  },
  {
   "cell_type": "markdown",
   "id": "f5766f76",
   "metadata": {},
   "source": [
    "##### 7. Evaluating Precision, recall,F1 score matrix"
   ]
  },
  {
   "cell_type": "code",
   "execution_count": 68,
   "id": "ea381b14",
   "metadata": {},
   "outputs": [
    {
     "name": "stderr",
     "output_type": "stream",
     "text": [
      "C:\\Users\\admin\\anaconda3\\envs\\kivy\\lib\\site-packages\\sklearn\\metrics\\_classification.py:1327: UndefinedMetricWarning: Precision and F-score are ill-defined and being set to 0.0 in labels with no predicted samples. Use `zero_division` parameter to control this behavior.\n",
      "  _warn_prf(average, modifier, msg_start, len(result))\n",
      "C:\\Users\\admin\\anaconda3\\envs\\kivy\\lib\\site-packages\\sklearn\\metrics\\_classification.py:1327: UndefinedMetricWarning: Precision and F-score are ill-defined and being set to 0.0 in labels with no predicted samples. Use `zero_division` parameter to control this behavior.\n",
      "  _warn_prf(average, modifier, msg_start, len(result))\n"
     ]
    },
    {
     "name": "stdout",
     "output_type": "stream",
     "text": [
      "              precision    recall  f1-score   support\n",
      "\n",
      "           0       0.00      0.00      0.00      1367\n",
      "           1       0.00      0.00      0.00     22225\n",
      "           2       0.00      0.00      0.00      2134\n",
      "           3       0.00      0.00      0.00     15345\n",
      "           4       0.00      0.00      0.00     12479\n",
      "           5       0.00      0.00      0.00       120\n",
      "           6       0.00      0.00      0.00         1\n",
      "           7       0.00      0.00      0.00      9152\n",
      "           8       0.00      0.00      0.00      2534\n",
      "           9       0.00      0.00      0.00    201975\n",
      "          10       0.00      0.00      0.00       676\n",
      "          11       0.00      0.00      0.00     30387\n",
      "          12       0.00      0.00      0.00     11076\n",
      "          13       0.00      0.00      0.00      9047\n",
      "          14       0.00      0.00      0.00        24\n",
      "          15       0.00      0.00      0.00      5476\n",
      "          16       0.00      0.00      0.00     33547\n",
      "          17       0.00      0.00      0.00    119652\n",
      "          18       0.00      0.00      0.00      2191\n",
      "          19       0.00      0.00      0.00      4252\n",
      "          20       0.00      0.00      0.00    367851\n",
      "          21       0.00      0.00      0.00     49395\n",
      "          22       0.00      0.00      0.00        95\n",
      "          23       0.00      0.00      0.00     74145\n",
      "          24       0.00      0.00      0.00       191\n",
      "          25       0.00      0.00      0.00     43109\n",
      "          26       0.00      0.00      0.00     46291\n",
      "          27       0.00      0.00      0.00      3743\n",
      "          28       0.00      0.00      0.00     12256\n",
      "          29       0.00      0.00      0.00    715249\n",
      "          30       0.00      0.00      0.00      1262\n",
      "          31       0.00      0.00      0.00        67\n",
      "          32       0.00      0.00      0.00       170\n",
      "          33       0.00      0.00      0.00      2724\n",
      "          34       0.00      0.00      0.00      7444\n",
      "          35       0.31      1.00      0.47   1226403\n",
      "          36       0.00      0.00      0.00      1785\n",
      "          37       0.00      0.00      0.00       383\n",
      "          38       0.00      0.00      0.00     44082\n",
      "          39       0.00      0.00      0.00    196662\n",
      "          40       0.00      0.00      0.00    480558\n",
      "          41       0.00      0.00      0.00     70368\n",
      "          42       0.00      0.00      0.00     10221\n",
      "          43       0.00      0.00      0.00     38112\n",
      "          44       0.00      0.00      0.00     96808\n",
      "\n",
      "    accuracy                           0.31   3973034\n",
      "   macro avg       0.01      0.02      0.01   3973034\n",
      "weighted avg       0.10      0.31      0.15   3973034\n",
      "\n"
     ]
    },
    {
     "name": "stderr",
     "output_type": "stream",
     "text": [
      "C:\\Users\\admin\\anaconda3\\envs\\kivy\\lib\\site-packages\\sklearn\\metrics\\_classification.py:1327: UndefinedMetricWarning: Precision and F-score are ill-defined and being set to 0.0 in labels with no predicted samples. Use `zero_division` parameter to control this behavior.\n",
      "  _warn_prf(average, modifier, msg_start, len(result))\n"
     ]
    }
   ],
   "source": [
    "print(classification_report(y_test,y_predict_dt))"
   ]
  },
  {
   "cell_type": "markdown",
   "id": "e4367ca5",
   "metadata": {},
   "source": [
    "##### 8. Predicted Model"
   ]
  },
  {
   "cell_type": "code",
   "execution_count": 69,
   "id": "b80f272b",
   "metadata": {},
   "outputs": [
    {
     "data": {
      "text/plain": [
       "array([35, 35, 35, ..., 35, 35, 35])"
      ]
     },
     "metadata": {},
     "output_type": "display_data"
    }
   ],
   "source": [
    "display(y_predict_dt)"
   ]
  },
  {
   "cell_type": "code",
   "execution_count": 70,
   "id": "948b05a9",
   "metadata": {},
   "outputs": [
    {
     "data": {
      "text/html": [
       "<div>\n",
       "<style scoped>\n",
       "    .dataframe tbody tr th:only-of-type {\n",
       "        vertical-align: middle;\n",
       "    }\n",
       "\n",
       "    .dataframe tbody tr th {\n",
       "        vertical-align: top;\n",
       "    }\n",
       "\n",
       "    .dataframe thead th {\n",
       "        text-align: right;\n",
       "    }\n",
       "</style>\n",
       "<table border=\"1\" class=\"dataframe\">\n",
       "  <thead>\n",
       "    <tr style=\"text-align: right;\">\n",
       "      <th></th>\n",
       "      <th>category_name</th>\n",
       "    </tr>\n",
       "  </thead>\n",
       "  <tbody>\n",
       "    <tr>\n",
       "      <th>6542907</th>\n",
       "      <td>9</td>\n",
       "    </tr>\n",
       "    <tr>\n",
       "      <th>6542906</th>\n",
       "      <td>9</td>\n",
       "    </tr>\n",
       "    <tr>\n",
       "      <th>6542905</th>\n",
       "      <td>9</td>\n",
       "    </tr>\n",
       "    <tr>\n",
       "      <th>6542904</th>\n",
       "      <td>9</td>\n",
       "    </tr>\n",
       "    <tr>\n",
       "      <th>6542903</th>\n",
       "      <td>9</td>\n",
       "    </tr>\n",
       "    <tr>\n",
       "      <th>...</th>\n",
       "      <td>...</td>\n",
       "    </tr>\n",
       "    <tr>\n",
       "      <th>676375</th>\n",
       "      <td>29</td>\n",
       "    </tr>\n",
       "    <tr>\n",
       "      <th>673123</th>\n",
       "      <td>29</td>\n",
       "    </tr>\n",
       "    <tr>\n",
       "      <th>673124</th>\n",
       "      <td>39</td>\n",
       "    </tr>\n",
       "    <tr>\n",
       "      <th>680099</th>\n",
       "      <td>29</td>\n",
       "    </tr>\n",
       "    <tr>\n",
       "      <th>680100</th>\n",
       "      <td>29</td>\n",
       "    </tr>\n",
       "  </tbody>\n",
       "</table>\n",
       "<p>3973034 rows × 1 columns</p>\n",
       "</div>"
      ],
      "text/plain": [
       "         category_name\n",
       "6542907              9\n",
       "6542906              9\n",
       "6542905              9\n",
       "6542904              9\n",
       "6542903              9\n",
       "...                ...\n",
       "676375              29\n",
       "673123              29\n",
       "673124              39\n",
       "680099              29\n",
       "680100              29\n",
       "\n",
       "[3973034 rows x 1 columns]"
      ]
     },
     "execution_count": 70,
     "metadata": {},
     "output_type": "execute_result"
    }
   ],
   "source": [
    "y_test = pd.DataFrame(y_test, columns = [\"category_name\"])\n",
    "y_test"
   ]
  },
  {
   "cell_type": "code",
   "execution_count": 71,
   "id": "17e3ded6",
   "metadata": {},
   "outputs": [
    {
     "data": {
      "text/plain": [
       "[35, 29, 40, 20, 9]"
      ]
     },
     "execution_count": 71,
     "metadata": {},
     "output_type": "execute_result"
    }
   ],
   "source": [
    "n = 5\n",
    "top5pratilipi = y_test['category_name'].value_counts()[:user_n].index.tolist()\n",
    "top5pratilipi"
   ]
  },
  {
   "cell_type": "code",
   "execution_count": 102,
   "id": "8e2c91fc",
   "metadata": {},
   "outputs": [
    {
     "data": {
      "text/html": [
       "<div>\n",
       "<style scoped>\n",
       "    .dataframe tbody tr th:only-of-type {\n",
       "        vertical-align: middle;\n",
       "    }\n",
       "\n",
       "    .dataframe tbody tr th {\n",
       "        vertical-align: top;\n",
       "    }\n",
       "\n",
       "    .dataframe thead th {\n",
       "        text-align: right;\n",
       "    }\n",
       "</style>\n",
       "<table border=\"1\" class=\"dataframe\">\n",
       "  <thead>\n",
       "    <tr style=\"text-align: right;\">\n",
       "      <th></th>\n",
       "      <th>read_percent</th>\n",
       "      <th>reading_time</th>\n",
       "      <th>category_name</th>\n",
       "    </tr>\n",
       "  </thead>\n",
       "  <tbody>\n",
       "    <tr>\n",
       "      <th>6564175</th>\n",
       "      <td>100.000000</td>\n",
       "      <td>0.000000</td>\n",
       "      <td>9</td>\n",
       "    </tr>\n",
       "    <tr>\n",
       "      <th>6564174</th>\n",
       "      <td>100.000000</td>\n",
       "      <td>0.000000</td>\n",
       "      <td>9</td>\n",
       "    </tr>\n",
       "    <tr>\n",
       "      <th>6564173</th>\n",
       "      <td>100.000000</td>\n",
       "      <td>0.000000</td>\n",
       "      <td>9</td>\n",
       "    </tr>\n",
       "    <tr>\n",
       "      <th>7090690</th>\n",
       "      <td>100.000000</td>\n",
       "      <td>0.000000</td>\n",
       "      <td>9</td>\n",
       "    </tr>\n",
       "    <tr>\n",
       "      <th>7090689</th>\n",
       "      <td>100.000000</td>\n",
       "      <td>0.000000</td>\n",
       "      <td>9</td>\n",
       "    </tr>\n",
       "    <tr>\n",
       "      <th>...</th>\n",
       "      <td>...</td>\n",
       "      <td>...</td>\n",
       "      <td>...</td>\n",
       "    </tr>\n",
       "    <tr>\n",
       "      <th>6890125</th>\n",
       "      <td>93.743319</td>\n",
       "      <td>566.412132</td>\n",
       "      <td>9</td>\n",
       "    </tr>\n",
       "    <tr>\n",
       "      <th>6890121</th>\n",
       "      <td>93.743319</td>\n",
       "      <td>566.412132</td>\n",
       "      <td>9</td>\n",
       "    </tr>\n",
       "    <tr>\n",
       "      <th>6890122</th>\n",
       "      <td>93.743319</td>\n",
       "      <td>566.412132</td>\n",
       "      <td>9</td>\n",
       "    </tr>\n",
       "    <tr>\n",
       "      <th>6890123</th>\n",
       "      <td>100.000000</td>\n",
       "      <td>566.412132</td>\n",
       "      <td>9</td>\n",
       "    </tr>\n",
       "    <tr>\n",
       "      <th>6890124</th>\n",
       "      <td>93.743319</td>\n",
       "      <td>566.412132</td>\n",
       "      <td>9</td>\n",
       "    </tr>\n",
       "  </tbody>\n",
       "</table>\n",
       "<p>755166 rows × 3 columns</p>\n",
       "</div>"
      ],
      "text/plain": [
       "         read_percent  reading_time  category_name\n",
       "6564175    100.000000      0.000000              9\n",
       "6564174    100.000000      0.000000              9\n",
       "6564173    100.000000      0.000000              9\n",
       "7090690    100.000000      0.000000              9\n",
       "7090689    100.000000      0.000000              9\n",
       "...               ...           ...            ...\n",
       "6890125     93.743319    566.412132              9\n",
       "6890121     93.743319    566.412132              9\n",
       "6890122     93.743319    566.412132              9\n",
       "6890123    100.000000    566.412132              9\n",
       "6890124     93.743319    566.412132              9\n",
       "\n",
       "[755166 rows x 3 columns]"
      ]
     },
     "execution_count": 102,
     "metadata": {},
     "output_type": "execute_result"
    }
   ],
   "source": [
    "newMetaUserData.iloc[np.where(newMetaUserData.category_name==9)]"
   ]
  },
  {
   "cell_type": "code",
   "execution_count": 104,
   "id": "a89ef284",
   "metadata": {},
   "outputs": [
    {
     "data": {
      "text/plain": [
       "'action-and-adventure'"
      ]
     },
     "execution_count": 104,
     "metadata": {},
     "output_type": "execute_result"
    }
   ],
   "source": [
    "metaUserData.loc[6564175].at[\"category_name\"]"
   ]
  },
  {
   "cell_type": "markdown",
   "id": "0009ce47",
   "metadata": {},
   "source": [
    "- Before Prediction,\n",
    " [35, 29, 40, 20, 39] : ['romance', 'novels', 'suspense', 'family', 'social']\n",
    "\n",
    "- After Prediction,\n",
    " [35, 29, 40, 20, 9] : ['romance', 'novels', 'suspense', 'family', 'action-and-adventure']"
   ]
  },
  {
   "cell_type": "markdown",
   "id": "97ec271f",
   "metadata": {},
   "source": [
    "# Pratilipis (at least 5), which each user is going to read later\n",
    "\n",
    "### [35, 29, 40, 20, 39] : ['romance', 'novels', 'suspense', 'family', 'action-and-adventure']"
   ]
  },
  {
   "cell_type": "markdown",
   "id": "ee198e94",
   "metadata": {},
   "source": [
    "### Time Series Forcasting"
   ]
  },
  {
   "cell_type": "code",
   "execution_count": 75,
   "id": "3023c3ec",
   "metadata": {},
   "outputs": [
    {
     "data": {
      "text/html": [
       "<div>\n",
       "<style scoped>\n",
       "    .dataframe tbody tr th:only-of-type {\n",
       "        vertical-align: middle;\n",
       "    }\n",
       "\n",
       "    .dataframe tbody tr th {\n",
       "        vertical-align: top;\n",
       "    }\n",
       "\n",
       "    .dataframe thead th {\n",
       "        text-align: right;\n",
       "    }\n",
       "</style>\n",
       "<table border=\"1\" class=\"dataframe\">\n",
       "  <thead>\n",
       "    <tr style=\"text-align: right;\">\n",
       "      <th></th>\n",
       "      <th>user_id</th>\n",
       "      <th>published_at</th>\n",
       "    </tr>\n",
       "  </thead>\n",
       "  <tbody>\n",
       "    <tr>\n",
       "      <th>0</th>\n",
       "      <td>5506791995012091</td>\n",
       "      <td>2018-06-11 13:17:48</td>\n",
       "    </tr>\n",
       "    <tr>\n",
       "      <th>1</th>\n",
       "      <td>5506791995012091</td>\n",
       "      <td>2018-06-11 13:17:48</td>\n",
       "    </tr>\n",
       "    <tr>\n",
       "      <th>2</th>\n",
       "      <td>5506791995012091</td>\n",
       "      <td>2018-06-11 13:17:48</td>\n",
       "    </tr>\n",
       "    <tr>\n",
       "      <th>3</th>\n",
       "      <td>5506791995065421</td>\n",
       "      <td>2019-04-11 14:03:19</td>\n",
       "    </tr>\n",
       "    <tr>\n",
       "      <th>4</th>\n",
       "      <td>5506791995065421</td>\n",
       "      <td>2019-04-11 14:03:19</td>\n",
       "    </tr>\n",
       "    <tr>\n",
       "      <th>...</th>\n",
       "      <td>...</td>\n",
       "      <td>...</td>\n",
       "    </tr>\n",
       "    <tr>\n",
       "      <th>15892128</th>\n",
       "      <td>5506791965450682</td>\n",
       "      <td>2022-02-26 06:38:59</td>\n",
       "    </tr>\n",
       "    <tr>\n",
       "      <th>15892129</th>\n",
       "      <td>5506791954885100</td>\n",
       "      <td>2022-02-28 14:25:09</td>\n",
       "    </tr>\n",
       "    <tr>\n",
       "      <th>15892130</th>\n",
       "      <td>5506791965450682</td>\n",
       "      <td>2022-02-28 14:25:09</td>\n",
       "    </tr>\n",
       "    <tr>\n",
       "      <th>15892131</th>\n",
       "      <td>5506791954885100</td>\n",
       "      <td>2022-03-07 11:22:21</td>\n",
       "    </tr>\n",
       "    <tr>\n",
       "      <th>15892132</th>\n",
       "      <td>5506791965450682</td>\n",
       "      <td>2022-03-07 11:22:21</td>\n",
       "    </tr>\n",
       "  </tbody>\n",
       "</table>\n",
       "<p>15892133 rows × 2 columns</p>\n",
       "</div>"
      ],
      "text/plain": [
       "                   user_id         published_at\n",
       "0         5506791995012091  2018-06-11 13:17:48\n",
       "1         5506791995012091  2018-06-11 13:17:48\n",
       "2         5506791995012091  2018-06-11 13:17:48\n",
       "3         5506791995065421  2019-04-11 14:03:19\n",
       "4         5506791995065421  2019-04-11 14:03:19\n",
       "...                    ...                  ...\n",
       "15892128  5506791965450682  2022-02-26 06:38:59\n",
       "15892129  5506791954885100  2022-02-28 14:25:09\n",
       "15892130  5506791965450682  2022-02-28 14:25:09\n",
       "15892131  5506791954885100  2022-03-07 11:22:21\n",
       "15892132  5506791965450682  2022-03-07 11:22:21\n",
       "\n",
       "[15892133 rows x 2 columns]"
      ]
     },
     "execution_count": 75,
     "metadata": {},
     "output_type": "execute_result"
    }
   ],
   "source": [
    "#pratilipi_data = metaUserData[['updated_at_x','updated_at_y','published_at','read_percent', 'reading_time', 'category_name']]\n",
    "pratilipi_data = metaUserData[['user_id','published_at']]\n",
    "pratilipi_data"
   ]
  },
  {
   "cell_type": "code",
   "execution_count": 76,
   "id": "a5e9ad2e",
   "metadata": {},
   "outputs": [],
   "source": [
    "import datetime as dt"
   ]
  },
  {
   "cell_type": "code",
   "execution_count": 77,
   "id": "407ccb2f",
   "metadata": {},
   "outputs": [
    {
     "name": "stderr",
     "output_type": "stream",
     "text": [
      "C:\\Users\\admin\\AppData\\Local\\Temp\\ipykernel_21076\\633706250.py:7: SettingWithCopyWarning: \n",
      "A value is trying to be set on a copy of a slice from a DataFrame\n",
      "\n",
      "See the caveats in the documentation: https://pandas.pydata.org/pandas-docs/stable/user_guide/indexing.html#returning-a-view-versus-a-copy\n",
      "  pratilipi_data.published_at[i] = dt.datetime.strptime(pratilipi_data.published_at[i],\"%Y-%m-%d %H:%M:%S\").date()\n"
     ]
    }
   ],
   "source": [
    "for i in range(len(pratilipi_data.published_at)):\n",
    "    if (pratilipi_data.published_at[i][1]=='/'):\n",
    "        pratilipi_data.published_at = dt.datetime.strptime(pratilipi_data.published_at[i],\"%Y-%m-%d %H:%M:%S\").date()\n",
    "    elif (pratilipi_data.published_at[i][2]=='/'):\n",
    "        pratilipi_data.published_at[i] = dt.datetime.strptime(pratilipi_data.published_at[i],\"%Y-%m-%d %H:%M:%S\").date()\n",
    "    else:\n",
    "        pratilipi_data.published_at[i] = dt.datetime.strptime(pratilipi_data.published_at[i],\"%Y-%m-%d %H:%M:%S\").date()"
   ]
  },
  {
   "cell_type": "code",
   "execution_count": 78,
   "id": "4c228543",
   "metadata": {},
   "outputs": [
    {
     "data": {
      "text/html": [
       "<div>\n",
       "<style scoped>\n",
       "    .dataframe tbody tr th:only-of-type {\n",
       "        vertical-align: middle;\n",
       "    }\n",
       "\n",
       "    .dataframe tbody tr th {\n",
       "        vertical-align: top;\n",
       "    }\n",
       "\n",
       "    .dataframe thead th {\n",
       "        text-align: right;\n",
       "    }\n",
       "</style>\n",
       "<table border=\"1\" class=\"dataframe\">\n",
       "  <thead>\n",
       "    <tr style=\"text-align: right;\">\n",
       "      <th></th>\n",
       "      <th>user_id</th>\n",
       "      <th>published_at</th>\n",
       "    </tr>\n",
       "  </thead>\n",
       "  <tbody>\n",
       "    <tr>\n",
       "      <th>0</th>\n",
       "      <td>5506791995012091</td>\n",
       "      <td>2018-06-11</td>\n",
       "    </tr>\n",
       "    <tr>\n",
       "      <th>1</th>\n",
       "      <td>5506791995012091</td>\n",
       "      <td>2018-06-11</td>\n",
       "    </tr>\n",
       "    <tr>\n",
       "      <th>2</th>\n",
       "      <td>5506791995012091</td>\n",
       "      <td>2018-06-11</td>\n",
       "    </tr>\n",
       "    <tr>\n",
       "      <th>3</th>\n",
       "      <td>5506791995065421</td>\n",
       "      <td>2019-04-11</td>\n",
       "    </tr>\n",
       "    <tr>\n",
       "      <th>4</th>\n",
       "      <td>5506791995065421</td>\n",
       "      <td>2019-04-11</td>\n",
       "    </tr>\n",
       "  </tbody>\n",
       "</table>\n",
       "</div>"
      ],
      "text/plain": [
       "            user_id published_at\n",
       "0  5506791995012091   2018-06-11\n",
       "1  5506791995012091   2018-06-11\n",
       "2  5506791995012091   2018-06-11\n",
       "3  5506791995065421   2019-04-11\n",
       "4  5506791995065421   2019-04-11"
      ]
     },
     "execution_count": 78,
     "metadata": {},
     "output_type": "execute_result"
    }
   ],
   "source": [
    "pratilipi_data.head()"
   ]
  },
  {
   "cell_type": "code",
   "execution_count": 79,
   "id": "99f9c42c",
   "metadata": {},
   "outputs": [
    {
     "name": "stdout",
     "output_type": "stream",
     "text": [
      "<class 'pandas.core.frame.DataFrame'>\n",
      "Int64Index: 15892133 entries, 0 to 15892132\n",
      "Data columns (total 2 columns):\n",
      " #   Column        Dtype \n",
      "---  ------        ----- \n",
      " 0   user_id       int64 \n",
      " 1   published_at  object\n",
      "dtypes: int64(1), object(1)\n",
      "memory usage: 363.7+ MB\n"
     ]
    }
   ],
   "source": [
    "pratilipi_data.info()"
   ]
  },
  {
   "cell_type": "code",
   "execution_count": 80,
   "id": "6c516d46",
   "metadata": {},
   "outputs": [
    {
     "name": "stderr",
     "output_type": "stream",
     "text": [
      "C:\\Users\\admin\\AppData\\Local\\Temp\\ipykernel_21076\\1696921455.py:1: SettingWithCopyWarning: \n",
      "A value is trying to be set on a copy of a slice from a DataFrame.\n",
      "Try using .loc[row_indexer,col_indexer] = value instead\n",
      "\n",
      "See the caveats in the documentation: https://pandas.pydata.org/pandas-docs/stable/user_guide/indexing.html#returning-a-view-versus-a-copy\n",
      "  pratilipi_data['No_User'] = pratilipi_data.groupby('published_at')['user_id'].transform('count')\n"
     ]
    }
   ],
   "source": [
    "pratilipi_data['No_User'] = pratilipi_data.groupby('published_at')['user_id'].transform('count')"
   ]
  },
  {
   "cell_type": "code",
   "execution_count": 81,
   "id": "3804219c",
   "metadata": {},
   "outputs": [
    {
     "name": "stderr",
     "output_type": "stream",
     "text": [
      "C:\\Users\\admin\\AppData\\Local\\Temp\\ipykernel_21076\\3605404135.py:1: SettingWithCopyWarning: \n",
      "A value is trying to be set on a copy of a slice from a DataFrame\n",
      "\n",
      "See the caveats in the documentation: https://pandas.pydata.org/pandas-docs/stable/user_guide/indexing.html#returning-a-view-versus-a-copy\n",
      "  pratilipi_data.drop(['user_id'],axis=1,inplace=True)\n",
      "C:\\Users\\admin\\AppData\\Local\\Temp\\ipykernel_21076\\3605404135.py:2: SettingWithCopyWarning: \n",
      "A value is trying to be set on a copy of a slice from a DataFrame\n",
      "\n",
      "See the caveats in the documentation: https://pandas.pydata.org/pandas-docs/stable/user_guide/indexing.html#returning-a-view-versus-a-copy\n",
      "  pratilipi_data.drop_duplicates(inplace=True)\n"
     ]
    }
   ],
   "source": [
    "pratilipi_data.drop(['user_id'],axis=1,inplace=True)\n",
    "pratilipi_data.drop_duplicates(inplace=True)"
   ]
  },
  {
   "cell_type": "code",
   "execution_count": 82,
   "id": "18b99d62",
   "metadata": {},
   "outputs": [
    {
     "data": {
      "text/html": [
       "<div>\n",
       "<style scoped>\n",
       "    .dataframe tbody tr th:only-of-type {\n",
       "        vertical-align: middle;\n",
       "    }\n",
       "\n",
       "    .dataframe tbody tr th {\n",
       "        vertical-align: top;\n",
       "    }\n",
       "\n",
       "    .dataframe thead th {\n",
       "        text-align: right;\n",
       "    }\n",
       "</style>\n",
       "<table border=\"1\" class=\"dataframe\">\n",
       "  <thead>\n",
       "    <tr style=\"text-align: right;\">\n",
       "      <th></th>\n",
       "      <th>published_at</th>\n",
       "      <th>No_User</th>\n",
       "    </tr>\n",
       "  </thead>\n",
       "  <tbody>\n",
       "    <tr>\n",
       "      <th>0</th>\n",
       "      <td>2018-06-11</td>\n",
       "      <td>864</td>\n",
       "    </tr>\n",
       "    <tr>\n",
       "      <th>3</th>\n",
       "      <td>2019-04-11</td>\n",
       "      <td>3561</td>\n",
       "    </tr>\n",
       "    <tr>\n",
       "      <th>5</th>\n",
       "      <td>2020-01-11</td>\n",
       "      <td>7583</td>\n",
       "    </tr>\n",
       "    <tr>\n",
       "      <th>7</th>\n",
       "      <td>2019-08-04</td>\n",
       "      <td>3068</td>\n",
       "    </tr>\n",
       "    <tr>\n",
       "      <th>9</th>\n",
       "      <td>2019-07-29</td>\n",
       "      <td>4720</td>\n",
       "    </tr>\n",
       "  </tbody>\n",
       "</table>\n",
       "</div>"
      ],
      "text/plain": [
       "  published_at  No_User\n",
       "0   2018-06-11      864\n",
       "3   2019-04-11     3561\n",
       "5   2020-01-11     7583\n",
       "7   2019-08-04     3068\n",
       "9   2019-07-29     4720"
      ]
     },
     "execution_count": 82,
     "metadata": {},
     "output_type": "execute_result"
    }
   ],
   "source": [
    "pratilipi_data.head()"
   ]
  },
  {
   "cell_type": "code",
   "execution_count": 83,
   "id": "d3bb5cf0",
   "metadata": {},
   "outputs": [
    {
     "data": {
      "text/plain": [
       "DatetimeIndex(['2018-06-11', '2019-04-11', '2020-01-11', '2019-08-04',\n",
       "               '2019-07-29', '2019-07-30', '2019-07-31', '2019-08-21',\n",
       "               '2019-08-22', '2019-08-23',\n",
       "               ...\n",
       "               '2015-07-27', '2016-05-13', '2016-04-26', '2015-12-18',\n",
       "               '2018-01-07', '2018-05-20', '2018-05-29', '2015-09-25',\n",
       "               '2017-03-13', '2016-05-31'],\n",
       "              dtype='datetime64[ns]', name='published_at', length=2074, freq=None)"
      ]
     },
     "execution_count": 83,
     "metadata": {},
     "output_type": "execute_result"
    }
   ],
   "source": [
    "pratilipi_data = pratilipi_data.set_index('published_at')\n",
    "pratilipi_data.index = pd.to_datetime(pratilipi_data.index)\n",
    "pratilipi_data.index"
   ]
  },
  {
   "cell_type": "code",
   "execution_count": 84,
   "id": "8aaeba41",
   "metadata": {},
   "outputs": [
    {
     "data": {
      "text/html": [
       "<div>\n",
       "<style scoped>\n",
       "    .dataframe tbody tr th:only-of-type {\n",
       "        vertical-align: middle;\n",
       "    }\n",
       "\n",
       "    .dataframe tbody tr th {\n",
       "        vertical-align: top;\n",
       "    }\n",
       "\n",
       "    .dataframe thead th {\n",
       "        text-align: right;\n",
       "    }\n",
       "</style>\n",
       "<table border=\"1\" class=\"dataframe\">\n",
       "  <thead>\n",
       "    <tr style=\"text-align: right;\">\n",
       "      <th></th>\n",
       "      <th>No_User</th>\n",
       "    </tr>\n",
       "    <tr>\n",
       "      <th>published_at</th>\n",
       "      <th></th>\n",
       "    </tr>\n",
       "  </thead>\n",
       "  <tbody>\n",
       "    <tr>\n",
       "      <th>2018-06-11</th>\n",
       "      <td>864</td>\n",
       "    </tr>\n",
       "    <tr>\n",
       "      <th>2019-04-11</th>\n",
       "      <td>3561</td>\n",
       "    </tr>\n",
       "    <tr>\n",
       "      <th>2020-01-11</th>\n",
       "      <td>7583</td>\n",
       "    </tr>\n",
       "    <tr>\n",
       "      <th>2019-08-04</th>\n",
       "      <td>3068</td>\n",
       "    </tr>\n",
       "    <tr>\n",
       "      <th>2019-07-29</th>\n",
       "      <td>4720</td>\n",
       "    </tr>\n",
       "  </tbody>\n",
       "</table>\n",
       "</div>"
      ],
      "text/plain": [
       "              No_User\n",
       "published_at         \n",
       "2018-06-11        864\n",
       "2019-04-11       3561\n",
       "2020-01-11       7583\n",
       "2019-08-04       3068\n",
       "2019-07-29       4720"
      ]
     },
     "execution_count": 84,
     "metadata": {},
     "output_type": "execute_result"
    }
   ],
   "source": [
    "pratilipi_data.head()"
   ]
  },
  {
   "cell_type": "code",
   "execution_count": 85,
   "id": "8fbe3825",
   "metadata": {},
   "outputs": [
    {
     "name": "stdout",
     "output_type": "stream",
     "text": [
      "2014-10-25 00:00:00 to 2022-03-23 00:00:00\n"
     ]
    }
   ],
   "source": [
    "# Checking range of dates for our values\n",
    "print(pratilipi_data.index.min(),'to',pratilipi_data.index.max())"
   ]
  },
  {
   "cell_type": "code",
   "execution_count": 86,
   "id": "6b641899",
   "metadata": {},
   "outputs": [
    {
     "data": {
      "text/plain": [
       "DatetimeIndex(['2014-10-25', '2014-10-26', '2014-10-27', '2014-10-28',\n",
       "               '2014-10-29', '2014-10-30', '2014-10-31', '2014-11-01',\n",
       "               '2014-11-02', '2014-11-03',\n",
       "               ...\n",
       "               '2022-03-14', '2022-03-15', '2022-03-16', '2022-03-17',\n",
       "               '2022-03-18', '2022-03-19', '2022-03-20', '2022-03-21',\n",
       "               '2022-03-22', '2022-03-23'],\n",
       "              dtype='datetime64[ns]', name='published_at', length=2707, freq='D')"
      ]
     },
     "execution_count": 86,
     "metadata": {},
     "output_type": "execute_result"
    }
   ],
   "source": [
    "data = pratilipi_data['No_User']\n",
    "data = data.asfreq('D')\n",
    "data.index"
   ]
  },
  {
   "cell_type": "code",
   "execution_count": 87,
   "id": "b3fc9454",
   "metadata": {},
   "outputs": [
    {
     "data": {
      "text/plain": [
       "published_at\n",
       "2014-10-25    1663.0\n",
       "2014-10-26       NaN\n",
       "2014-10-27       NaN\n",
       "2014-10-28       NaN\n",
       "2014-10-29       NaN\n",
       "Freq: D, Name: No_User, dtype: float64"
      ]
     },
     "execution_count": 87,
     "metadata": {},
     "output_type": "execute_result"
    }
   ],
   "source": [
    "data.head()"
   ]
  },
  {
   "cell_type": "code",
   "execution_count": 88,
   "id": "475e94cd",
   "metadata": {},
   "outputs": [
    {
     "data": {
      "image/png": "[encoded data removed]",
      "text/plain": [
       "<Figure size 1080x432 with 1 Axes>"
      ]
     },
     "metadata": {
      "needs_background": "light"
     },
     "output_type": "display_data"
    }
   ],
   "source": [
    "import matplotlib.pyplot as plt\n",
    "data.plot(figsize=(15,6))\n",
    "plt.show()"
   ]
  },
  {
   "cell_type": "markdown",
   "id": "e19b7e14",
   "metadata": {},
   "source": [
    "- Since not many users before   Feb 2022, we consider only the latter values"
   ]
  },
  {
   "cell_type": "code",
   "execution_count": 89,
   "id": "16826f25",
   "metadata": {},
   "outputs": [],
   "source": [
    "from2020 = pratilipi_data[pratilipi_data.index > dt.datetime(2020,1,1)]"
   ]
  },
  {
   "cell_type": "code",
   "execution_count": 90,
   "id": "7d41dcea",
   "metadata": {},
   "outputs": [
    {
     "data": {
      "text/html": [
       "<div>\n",
       "<style scoped>\n",
       "    .dataframe tbody tr th:only-of-type {\n",
       "        vertical-align: middle;\n",
       "    }\n",
       "\n",
       "    .dataframe tbody tr th {\n",
       "        vertical-align: top;\n",
       "    }\n",
       "\n",
       "    .dataframe thead th {\n",
       "        text-align: right;\n",
       "    }\n",
       "</style>\n",
       "<table border=\"1\" class=\"dataframe\">\n",
       "  <thead>\n",
       "    <tr style=\"text-align: right;\">\n",
       "      <th></th>\n",
       "      <th>No_User</th>\n",
       "    </tr>\n",
       "    <tr>\n",
       "      <th>published_at</th>\n",
       "      <th></th>\n",
       "    </tr>\n",
       "  </thead>\n",
       "  <tbody>\n",
       "    <tr>\n",
       "      <th>2020-01-11</th>\n",
       "      <td>7583</td>\n",
       "    </tr>\n",
       "    <tr>\n",
       "      <th>2020-01-04</th>\n",
       "      <td>5198</td>\n",
       "    </tr>\n",
       "    <tr>\n",
       "      <th>2020-01-09</th>\n",
       "      <td>11954</td>\n",
       "    </tr>\n",
       "    <tr>\n",
       "      <th>2020-01-12</th>\n",
       "      <td>9875</td>\n",
       "    </tr>\n",
       "    <tr>\n",
       "      <th>2020-01-13</th>\n",
       "      <td>9557</td>\n",
       "    </tr>\n",
       "  </tbody>\n",
       "</table>\n",
       "</div>"
      ],
      "text/plain": [
       "              No_User\n",
       "published_at         \n",
       "2020-01-11       7583\n",
       "2020-01-04       5198\n",
       "2020-01-09      11954\n",
       "2020-01-12       9875\n",
       "2020-01-13       9557"
      ]
     },
     "execution_count": 90,
     "metadata": {},
     "output_type": "execute_result"
    }
   ],
   "source": [
    "from2020.head()"
   ]
  },
  {
   "cell_type": "code",
   "execution_count": 91,
   "id": "32fdbf24",
   "metadata": {},
   "outputs": [
    {
     "data": {
      "text/plain": [
       "DatetimeIndex(['2014-10-25', '2014-10-26', '2014-10-27', '2014-10-28',\n",
       "               '2014-10-29', '2014-10-30', '2014-10-31', '2014-11-01',\n",
       "               '2014-11-02', '2014-11-03',\n",
       "               ...\n",
       "               '2022-03-14', '2022-03-15', '2022-03-16', '2022-03-17',\n",
       "               '2022-03-18', '2022-03-19', '2022-03-20', '2022-03-21',\n",
       "               '2022-03-22', '2022-03-23'],\n",
       "              dtype='datetime64[ns]', name='published_at', length=2707, freq='D')"
      ]
     },
     "execution_count": 91,
     "metadata": {},
     "output_type": "execute_result"
    }
   ],
   "source": [
    "# new Series\n",
    "PratilipiData = from2020['No_User']\n",
    "PratilipiData = data.asfreq('D')\n",
    "PratilipiData.index"
   ]
  },
  {
   "cell_type": "code",
   "execution_count": 92,
   "id": "496ee8c4",
   "metadata": {},
   "outputs": [
    {
     "data": {
      "image/png": "[encoded data removed]",
      "text/plain": [
       "<Figure size 1080x432 with 1 Axes>"
      ]
     },
     "metadata": {
      "needs_background": "light"
     },
     "output_type": "display_data"
    }
   ],
   "source": [
    "# Plotting number of tickets per day after October 2013\n",
    "PratilipiData.plot(figsize=(15,6))\n",
    "plt.show()"
   ]
  },
  {
   "cell_type": "code",
   "execution_count": 93,
   "id": "feb84df1",
   "metadata": {},
   "outputs": [
    {
     "data": {
      "text/plain": [
       "(812, 1)"
      ]
     },
     "execution_count": 93,
     "metadata": {},
     "output_type": "execute_result"
    }
   ],
   "source": [
    "from2020.shape"
   ]
  },
  {
   "cell_type": "code",
   "execution_count": 94,
   "id": "21df08c6",
   "metadata": {},
   "outputs": [
    {
     "data": {
      "text/plain": [
       "(2707,)"
      ]
     },
     "execution_count": 94,
     "metadata": {},
     "output_type": "execute_result"
    }
   ],
   "source": [
    "PratilipiData.shape"
   ]
  },
  {
   "cell_type": "markdown",
   "id": "c6829ffa",
   "metadata": {},
   "source": [
    "- Making a list of values for p,d & q"
   ]
  },
  {
   "cell_type": "code",
   "execution_count": 95,
   "id": "be743d8d",
   "metadata": {},
   "outputs": [
    {
     "data": {
      "text/plain": [
       "[(0, 0, 0),\n",
       " (0, 0, 1),\n",
       " (0, 1, 0),\n",
       " (0, 1, 1),\n",
       " (1, 0, 0),\n",
       " (1, 0, 1),\n",
       " (1, 1, 0),\n",
       " (1, 1, 1)]"
      ]
     },
     "execution_count": 95,
     "metadata": {},
     "output_type": "execute_result"
    }
   ],
   "source": [
    "import itertools\n",
    "p=d=q=range(0,2)\n",
    "pdq = list(itertools.product(p,d,q))\n",
    "pdq"
   ]
  },
  {
   "cell_type": "code",
   "execution_count": 96,
   "id": "b8778b0c",
   "metadata": {},
   "outputs": [
    {
     "name": "stdout",
     "output_type": "stream",
     "text": [
      "ARIMA(0, 0, 0) - AIC:46818.09574596959\n",
      "ARIMA(0, 0, 1) - AIC:45738.32652449234\n",
      "ARIMA(0, 1, 0) - AIC:42338.846614974085\n",
      "ARIMA(0, 1, 1) - AIC:42332.59728423945\n",
      "ARIMA(1, 0, 0) - AIC:42249.65124012711\n",
      "ARIMA(1, 0, 1) - AIC:42248.717675989246\n",
      "ARIMA(1, 1, 0) - AIC:42332.55083755005\n",
      "ARIMA(1, 1, 1) - AIC:42330.90623922769\n"
     ]
    }
   ],
   "source": [
    "import warnings\n",
    "warnings.filterwarnings('ignore')\n",
    "import statsmodels.api as sm\n",
    "# Checking the AIC values per pairs\n",
    "for param in pdq:\n",
    "    mod = sm.tsa.statespace.SARIMAX(PratilipiData,order=param,enforce_stationarity=False,enforce_invertibility=False)\n",
    "    results = mod.fit()\n",
    "    print('ARIMA{} - AIC:{}'.format(param, results.aic))"
   ]
  },
  {
   "cell_type": "code",
   "execution_count": 97,
   "id": "5d0672b5",
   "metadata": {},
   "outputs": [
    {
     "name": "stdout",
     "output_type": "stream",
     "text": [
      "==============================================================================\n",
      "                 coef    std err          z      P>|z|      [0.025      0.975]\n",
      "------------------------------------------------------------------------------\n",
      "ar.L1         -0.8386      0.019    -44.102      0.000      -0.876      -0.801\n",
      "ma.L1          0.8919      0.018     50.567      0.000       0.857       0.927\n",
      "sigma2      3.836e+07   5.73e-10   6.69e+16      0.000    3.84e+07    3.84e+07\n",
      "==============================================================================\n"
     ]
    }
   ],
   "source": [
    "mod = sm.tsa.statespace.SARIMAX(PratilipiData,order=(1,1,1))\n",
    "results = mod.fit()\n",
    "print(results.summary().tables[1])"
   ]
  },
  {
   "cell_type": "code",
   "execution_count": 98,
   "id": "097291b7",
   "metadata": {},
   "outputs": [
    {
     "data": {
      "text/plain": [
       "2020-03-03    9683.0\n",
       "2020-03-04    3340.0\n",
       "2020-03-05    6131.0\n",
       "2020-03-06    6626.0\n",
       "2020-03-07    5514.0\n",
       "               ...  \n",
       "2022-10-26      57.0\n",
       "2022-10-27      57.0\n",
       "2022-10-28      57.0\n",
       "2022-10-29      57.0\n",
       "2022-10-30      57.0\n",
       "Freq: D, Name: predicted_mean, Length: 972, dtype: float64"
      ]
     },
     "execution_count": 98,
     "metadata": {},
     "output_type": "execute_result"
    }
   ],
   "source": [
    "pred = results.get_prediction(start=pd.to_datetime('2020-3-3'),end=pd.to_datetime('2022-10-30'),dynamic=False)\n",
    "pred_ci = pred.conf_int()\n",
    "pred.predicted_mean.round()"
   ]
  },
  {
   "cell_type": "markdown",
   "id": "ed7d0313",
   "metadata": {},
   "source": [
    "###### Visualization"
   ]
  },
  {
   "cell_type": "code",
   "execution_count": 101,
   "id": "4a8ebe3f",
   "metadata": {},
   "outputs": [
    {
     "data": {
      "image/png": "[encoded data removed]",
      "text/plain": [
       "<Figure size 1080x432 with 1 Axes>"
      ]
     },
     "metadata": {
      "needs_background": "light"
     },
     "output_type": "display_data"
    }
   ],
   "source": [
    "ax = PratilipiData['2020':].plot(label='observed')\n",
    "pred.predicted_mean.plot(ax=ax,label='One-step ahead Forecast',figsize=(15, 6))\n",
    "ax.fill_between(pred_ci.index,pred_ci.iloc[:,0],pred_ci.iloc[:,1],color='grey',alpha=0.3)\n",
    "ax.set_xlabel('Date')\n",
    "ax.set_ylabel('No of User')\n",
    "plt.legend()\n",
    "plt.show()"
   ]
  },
  {
   "cell_type": "markdown",
   "id": "3d1d60ca",
   "metadata": {},
   "source": [
    "### Visualization shows The No of User is going to read patilipis later"
   ]
  },
  {
   "cell_type": "code",
   "execution_count": null,
   "id": "e71c5cc2",
   "metadata": {},
   "outputs": [],
   "source": []
  }
 ],
 "metadata": {
  "kernelspec": {
   "display_name": "Python 3 (ipykernel)",
   "language": "python",
   "name": "python3"
  },
  "language_info": {
   "codemirror_mode": {
    "name": "ipython",
    "version": 3
   },
   "file_extension": ".py",
   "mimetype": "text/x-python",
   "name": "python",
   "nbconvert_exporter": "python",
   "pygments_lexer": "ipython3",
   "version": "3.8.13"
  }
 },
 "nbformat": 4,
 "nbformat_minor": 5
}
